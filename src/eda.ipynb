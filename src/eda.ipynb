{
 "cells": [
  {
   "cell_type": "markdown",
   "metadata": {},
   "source": [
    "# Exploratory Data Analysis"
   ]
  },
  {
   "cell_type": "code",
   "execution_count": 1,
   "metadata": {},
   "outputs": [],
   "source": [
    "import pandas as pd"
   ]
  },
  {
   "cell_type": "code",
   "execution_count": 3,
   "metadata": {},
   "outputs": [],
   "source": [
    "data_trips = pd.read_csv('../data/processed/clean_data_trips.csv', sep=',', low_memory=False)"
   ]
  },
  {
   "cell_type": "code",
   "execution_count": null,
   "metadata": {},
   "outputs": [],
   "source": []
  },
  {
   "cell_type": "code",
   "execution_count": null,
   "metadata": {},
   "outputs": [],
   "source": []
  },
  {
   "cell_type": "code",
   "execution_count": null,
   "metadata": {},
   "outputs": [],
   "source": []
  },
  {
   "cell_type": "code",
   "execution_count": null,
   "metadata": {},
   "outputs": [],
   "source": []
  },
  {
   "cell_type": "code",
   "execution_count": null,
   "metadata": {},
   "outputs": [],
   "source": [
    "'''# Creamos una función para proceder a la limpieza y adecuación del conjunto de datos \n",
    "def limpieza_datos (trips_data):\n",
    "  # Eliminamos las entradas de los viajes que han durado más de 2h\n",
    "  trips_data = trips_data[trips_data[\"trip_minutes\"] <= 120]\n",
    "  # Eliminamos las entradas de los viajes que han durado menos de 3 minutos\n",
    "  trips_data = trips_data[trips_data[\"trip_minutes\"] >= 3]\n",
    "  # Eliminamos los números de las estaciones\n",
    "  trips_data['unlock_station_name'] = trips_data['unlock_station_name'].str.replace('\\d+\\s*\\-\\s*', '')\n",
    "  trips_data['lock_station_name'] = trips_data['lock_station_name'].str.replace('\\d+\\s*\\-\\s*', '')\n",
    "  # Eliminamos los registros en los que el formato de fecha se encuentre mal introducido\n",
    "  trips_data['unlock_date'] = pd.to_datetime(trips_data['unlock_date'], format='%Y-%m-%dT%H:%M:%S', errors='coerce')\n",
    "  trips_data = trips_data.dropna(subset=['unlock_date'])\n",
    "  # Devolvemos la tabla de datos\n",
    "  return trips_data\n",
    "  '''"
   ]
  }
 ],
 "metadata": {
  "kernelspec": {
   "display_name": "Python 3",
   "language": "python",
   "name": "python3"
  },
  "language_info": {
   "codemirror_mode": {
    "name": "ipython",
    "version": 3
   },
   "file_extension": ".py",
   "mimetype": "text/x-python",
   "name": "python",
   "nbconvert_exporter": "python",
   "pygments_lexer": "ipython3",
   "version": "3.12.0"
  }
 },
 "nbformat": 4,
 "nbformat_minor": 2
}
