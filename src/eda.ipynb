{
 "cells": [
  {
   "cell_type": "markdown",
   "metadata": {},
   "source": [
    "# Exploratory Data Analysis"
   ]
  },
  {
   "cell_type": "markdown",
   "metadata": {},
   "source": [
    "***Import neccessary libraries***"
   ]
  },
  {
   "cell_type": "code",
   "execution_count": 1,
   "metadata": {},
   "outputs": [],
   "source": [
    "import pandas as pd\n",
    "import matplotlib.pyplot as plt\n",
    "import seaborn as sns\n",
    "import numpy as np\n",
    "import random"
   ]
  },
  {
   "cell_type": "markdown",
   "metadata": {},
   "source": [
    "### EDA"
   ]
  },
  {
   "cell_type": "markdown",
   "metadata": {},
   "source": [
    "***Read the files***"
   ]
  },
  {
   "cell_type": "code",
   "execution_count": 2,
   "metadata": {},
   "outputs": [],
   "source": [
    "data_trips = pd.read_csv('../data/processed/clean_data_trips.csv', sep=',', low_memory=False)\n",
    "#data_stations = pd.read_csv('../data/processed/clean_data_stations.csv', sep=',', low_memory=False)"
   ]
  },
  {
   "cell_type": "markdown",
   "metadata": {},
   "source": [
    "***Exploration and data cleaning***"
   ]
  },
  {
   "cell_type": "code",
   "execution_count": 3,
   "metadata": {},
   "outputs": [
    {
     "name": "stdout",
     "output_type": "stream",
     "text": [
      "<class 'pandas.core.frame.DataFrame'>\n",
      "RangeIndex: 4144134 entries, 0 to 4144133\n",
      "Data columns (total 22 columns):\n",
      " #   Column               Non-Null Count    Dtype  \n",
      "---  ------               --------------    -----  \n",
      " 0   idDriver             2102989 non-null  object \n",
      " 1   idBike               4144134 non-null  int64  \n",
      " 2   trip_minutes         4144134 non-null  float64\n",
      " 3   fleet                4144134 non-null  int64  \n",
      " 4   unlock_date          4144134 non-null  object \n",
      " 5   unlock_hour          4144134 non-null  object \n",
      " 6   latitude_unlock      4144134 non-null  float64\n",
      " 7   longitude_unlock     4144134 non-null  float64\n",
      " 8   address_unlock       3595660 non-null  object \n",
      " 9   unlocktype           4144134 non-null  object \n",
      " 10  station_unlock       4144134 non-null  int64  \n",
      " 11  dock_unlock          4144134 non-null  int64  \n",
      " 12  unlock_station_name  4127342 non-null  object \n",
      " 13  lock_date            0 non-null        float64\n",
      " 14  lock_hour            4144134 non-null  object \n",
      " 15  latitude_lock        4144131 non-null  float64\n",
      " 16  longitude_lock       4144131 non-null  float64\n",
      " 17  address_lock         3596532 non-null  object \n",
      " 18  locktype             4144134 non-null  object \n",
      " 19  station_lock         4144134 non-null  int64  \n",
      " 20  dock_lock            4144134 non-null  int64  \n",
      " 21  lock_station_name    4124227 non-null  object \n",
      "dtypes: float64(6), int64(6), object(10)\n",
      "memory usage: 695.6+ MB\n"
     ]
    }
   ],
   "source": [
    "data_trips.info(show_counts=True)"
   ]
  },
  {
   "cell_type": "markdown",
   "metadata": {},
   "source": [
    "-  We have 4144134 rows corresponding to an entire year of data collection with 32 columns of varied data\n",
    "- There are variables with Null values ​​that indicate that some of the columns have not been identified, for example, idDriver\n",
    "-  There are 21 numerical variables and 11 categorical variables\n"
   ]
  },
  {
   "cell_type": "markdown",
   "metadata": {},
   "source": [
    "* Eliminate duplicates"
   ]
  },
  {
   "cell_type": "code",
   "execution_count": 4,
   "metadata": {},
   "outputs": [],
   "source": [
    "data_trips = data_trips.drop_duplicates()\n",
    "#data_stations = data_stations.drop_duplicates()"
   ]
  },
  {
   "cell_type": "markdown",
   "metadata": {},
   "source": [
    "* Eliminate irrelevant information"
   ]
  },
  {
   "cell_type": "code",
   "execution_count": 5,
   "metadata": {},
   "outputs": [],
   "source": [
    "data_trips.drop(['address_unlock', 'unlocktype', 'address_lock', 'locktype'], axis=1, inplace=True)"
   ]
  },
  {
   "cell_type": "code",
   "execution_count": 6,
   "metadata": {},
   "outputs": [],
   "source": [
    "data_trips = data_trips.dropna(subset=['idDriver'])"
   ]
  },
  {
   "cell_type": "code",
   "execution_count": 7,
   "metadata": {},
   "outputs": [],
   "source": [
    "data_trips = data_trips[data_trips[\"trip_minutes\"] <= 120]\n",
    "data_trips = data_trips[data_trips[\"trip_minutes\"] >= 3]"
   ]
  },
  {
   "cell_type": "code",
   "execution_count": 8,
   "metadata": {},
   "outputs": [],
   "source": [
    "data_trips = data_trips.dropna(subset=['unlock_station_name'])\n",
    "data_trips = data_trips.dropna(subset=['lock_station_name'])"
   ]
  },
  {
   "cell_type": "code",
   "execution_count": 9,
   "metadata": {},
   "outputs": [],
   "source": [
    "# Convierte 'unlock_date' a datetime\n",
    "data_trips['unlock_date'] = pd.to_datetime(data_trips['unlock_date'])\n",
    "\n",
    "# Crea un nuevo DataFrame vacío\n",
    "data_trips_red = pd.DataFrame()\n",
    "\n",
    "while len(data_trips_red) < 60000:\n",
    "    # Selecciona un mes aleatorio\n",
    "    mes = pd.Timestamp(random.choice(data_trips['unlock_date'])).month\n",
    "    \n",
    "    # Filtra las filas de 'data_trips' que pertenecen al mes seleccionado\n",
    "    df_mes = data_trips[data_trips['unlock_date'].dt.month == mes]\n",
    "    \n",
    "    # Calcula el porcentaje de datos que se deben tomar del mes\n",
    "    porcentaje = min(1, 60000 / len(df_mes))\n",
    "    \n",
    "    # Toma una muestra aleatoria de 'df_mes'\n",
    "    df_muestra = df_mes.sample(frac=porcentaje)\n",
    "    \n",
    "    # Agrega la muestra al nuevo DataFrame\n",
    "    data_trips_red = pd.concat([data_trips_red, df_muestra], ignore_index=True)\n",
    "\n",
    "# Ordena el nuevo DataFrame por 'unlock_date'\n",
    "data_trips_red = data_trips_red.sort_values('unlock_date')\n",
    "\n"
   ]
  },
  {
   "cell_type": "code",
   "execution_count": 11,
   "metadata": {},
   "outputs": [
    {
     "name": "stdout",
     "output_type": "stream",
     "text": [
      "<class 'pandas.core.frame.DataFrame'>\n",
      "Index: 60000 entries, 58456 to 7431\n",
      "Data columns (total 18 columns):\n",
      " #   Column               Non-Null Count  Dtype         \n",
      "---  ------               --------------  -----         \n",
      " 0   idDriver             60000 non-null  object        \n",
      " 1   idBike               60000 non-null  int64         \n",
      " 2   trip_minutes         60000 non-null  float64       \n",
      " 3   fleet                60000 non-null  int64         \n",
      " 4   unlock_date          60000 non-null  datetime64[ns]\n",
      " 5   unlock_hour          60000 non-null  object        \n",
      " 6   latitude_unlock      60000 non-null  float64       \n",
      " 7   longitude_unlock     60000 non-null  float64       \n",
      " 8   station_unlock       60000 non-null  int64         \n",
      " 9   dock_unlock          60000 non-null  int64         \n",
      " 10  unlock_station_name  60000 non-null  object        \n",
      " 11  lock_date            0 non-null      float64       \n",
      " 12  lock_hour            60000 non-null  object        \n",
      " 13  latitude_lock        60000 non-null  float64       \n",
      " 14  longitude_lock       60000 non-null  float64       \n",
      " 15  station_lock         60000 non-null  int64         \n",
      " 16  dock_lock            60000 non-null  int64         \n",
      " 17  lock_station_name    60000 non-null  object        \n",
      "dtypes: datetime64[ns](1), float64(6), int64(6), object(5)\n",
      "memory usage: 8.7+ MB\n"
     ]
    }
   ],
   "source": [
    "data_trips_red.info(show_counts=True)"
   ]
  },
  {
   "cell_type": "markdown",
   "metadata": {},
   "source": [
    "*** ¡Hay una incongruencia en la relación de los dos datsets en los números de las estaciones!. El nombre coincide, pero los números hay varios que varian, puesto que en data_trips empiezan por 1=Puerta de Sol A y en data_stations con 1A directamente ***"
   ]
  },
  {
   "cell_type": "markdown",
   "metadata": {},
   "source": [
    "***Analysis of univariate variables***"
   ]
  },
  {
   "cell_type": "markdown",
   "metadata": {},
   "source": [
    "* Analysis on categorical variables"
   ]
  },
  {
   "cell_type": "code",
   "execution_count": 13,
   "metadata": {},
   "outputs": [
    {
     "data": {
      "image/png": "[encoded data removed]",
      "text/plain": [
       "<Figure size 1000x700 with 3 Axes>"
      ]
     },
     "metadata": {},
     "output_type": "display_data"
    }
   ],
   "source": [
    "fig, axis = plt.subplots(1, 3, figsize = (10, 7))\n",
    "\n",
    "sns.histplot(ax = axis[0], data = data_trips_red, x = \"idDriver\").set(ylabel = None)\n",
    "sns.histplot(ax = axis[1], data = data_trips_red, x = \"unlock_date\").set(ylabel = None)\n",
    "sns.histplot(ax = axis[2], data = data_trips_red, x = \"unlock_hour\").set(ylabel = None)\n",
    "\n",
    "plt.tight_layout()\n",
    "plt.show()"
   ]
  },
  {
   "cell_type": "code",
   "execution_count": null,
   "metadata": {},
   "outputs": [],
   "source": []
  },
  {
   "cell_type": "markdown",
   "metadata": {},
   "source": [
    "* Analysis on numeric variables"
   ]
  },
  {
   "cell_type": "code",
   "execution_count": null,
   "metadata": {},
   "outputs": [],
   "source": []
  },
  {
   "cell_type": "code",
   "execution_count": null,
   "metadata": {},
   "outputs": [],
   "source": [
    "# Set the style for visualizations\n",
    "sns.set(style=\"whitegrid\")\n",
    "\n",
    "# Visualize the distribution of trip_minutes\n",
    "plt.figure(figsize=(12, 6))\n",
    "sns.histplot(trips_data['trip_minutes'], bins=30, kde=True, color='skyblue')\n",
    "plt.title('Distribution of Trip Duration')\n",
    "plt.xlabel('Trip Duration (minutes)')\n",
    "plt.ylabel('Frequency')\n",
    "plt.show()\n",
    "\n",
    "# Select all numeric variables, excluding 'trip_minutes'\n",
    "numeric_variables = ['fleet', 'latitude_unlock', 'longitude_unlock',\n",
    "                     'station_unlock', 'dock_unlock', 'lock_date',\n",
    "                     'latitude_lock', 'longitude_lock', 'station_lock', 'dock_lock']\n",
    "\n",
    "# Create a pairplot for the numeric variables\n",
    "sns.pairplot(trips_data, x_vars=numeric_variables,\n",
    "             y_vars='trip_minutes', kind='scatter', height=5)\n",
    "plt.suptitle('Relationship between Trip Duration and Other Numeric Variables', y=1.02)\n",
    "plt.show()"
   ]
  },
  {
   "cell_type": "markdown",
   "metadata": {},
   "source": [
    "# Numerical Variables in the trips_data Dataset\n",
    "\n",
    "✅trip_minutes (float64):\n",
    "\n",
    "Represents the duration of the bike trip in minutes.\n",
    "Continuous variable measuring the time taken for a trip.\n",
    "\n",
    "✅fleet (int64):\n",
    "\n",
    "Refers to the fleet associated with a bike trip.\n",
    "Categorical numerical variable identifying the fleet.\n",
    "\n",
    "✅latitude_unlock (float64):\n",
    "\n",
    "Denotes the latitude coordinate where the bike was unlocked.\n",
    "Continuous variable representing the geographical location.\n",
    "\n",
    "✅longitude_unlock (float64):\n",
    "\n",
    "Represents the longitude coordinate where the bike was unlocked.\n",
    "Continuous variable providing the geographical information.\n",
    "\n",
    "✅station_unlock (int64):\n",
    "\n",
    "Indicates the station ID where the bike was unlocked.\n",
    "Categorical numerical variable identifying the station.\n",
    "\n",
    "✅dock_unlock (int64):\n",
    "\n",
    "Specifies the dock ID within the unlocking station.\n",
    "Categorical numerical variable identifying the specific dock.\n",
    "\n",
    "✅latitude_lock (float64):\n",
    "\n",
    "Denotes the latitude coordinate where the bike was locked.\n",
    "Continuous variable representing the geographical location.\n",
    "\n",
    "✅longitude_lock (float64):\n",
    "\n",
    "Represents the longitude coordinate where the bike was locked.\n",
    "Continuous variable providing the geographical information.\n",
    "\n",
    "✅station_lock (int64):\n",
    "\n",
    "Indicates the station ID where the bike was locked.\n",
    "Categorical numerical variable identifying the station.\n",
    "\n",
    "✅dock_lock (int64):\n",
    "\n",
    "Specifies the dock ID within the locking station.\n",
    "Categorical numerical variable identifying the specific dock."
   ]
  },
  {
   "cell_type": "code",
   "execution_count": null,
   "metadata": {},
   "outputs": [],
   "source": [
    "# Set the style for visualizations\n",
    "sns.set(style=\"whitegrid\")\n",
    "\n",
    "# Visualize the distribution of categorical variables\n",
    "categorical_columns = ['idDriver', 'unlock_hour', 'unlock_station_name', 'lock_hour', 'lock_station_name']\n",
    "\n",
    "# Count plot for idDriver\n",
    "plt.figure(figsize=(12, 6))\n",
    "sns.countplot(x='idDriver', data=trips_data, order=trips_data['idDriver'].value_counts().index, palette='viridis')\n",
    "plt.title('Distribution of idDriver')\n",
    "plt.xlabel('idDriver')\n",
    "plt.ylabel('Count')\n",
    "plt.xticks(rotation=45, ha='right')\n",
    "plt.show()\n",
    "\n",
    "# Count plot for unlock_hour\n",
    "plt.figure(figsize=(12, 6))\n",
    "sns.countplot(x='unlock_hour', data=trips_data, order=trips_data['unlock_hour'].value_counts().index, palette='viridis')\n",
    "plt.title('Distribution of Unlock Hour')\n",
    "plt.xlabel('Unlock Hour')\n",
    "plt.ylabel('Count')\n",
    "plt.xticks(rotation=45, ha='right')\n",
    "plt.show()\n",
    "\n",
    "# Count plot for unlock_station_name\n",
    "plt.figure(figsize=(16, 6))\n",
    "sns.countplot(x='unlock_station_name', data=trips_data, order=trips_data['unlock_station_name'].value_counts().index, palette='viridis')\n",
    "plt.title('Distribution of Unlock Station Name')\n",
    "plt.xlabel('Unlock Station Name')\n",
    "plt.ylabel('Count')\n",
    "plt.xticks(rotation=45, ha='right')\n",
    "plt.show()\n",
    "\n",
    "# Count plot for lock_hour\n",
    "plt.figure(figsize=(12, 6))\n",
    "sns.countplot(x='lock_hour', data=trips_data, order=trips_data['lock_hour'].value_counts().index, palette='viridis')\n",
    "plt.title('Distribution of Lock Hour')\n",
    "plt.xlabel('Lock Hour')\n",
    "plt.ylabel('Count')\n",
    "plt.xticks(rotation=45, ha='right')\n",
    "plt.show()\n",
    "\n",
    "# Count plot for lock_station_name\n",
    "plt.figure(figsize=(16, 6))\n",
    "sns.countplot(x='lock_station_name', data=trips_data, order=trips_data['lock_station_name'].value_counts().index, palette='viridis')\n",
    "plt.title('Distribution of Lock Station Name')\n",
    "plt.xlabel('Lock Station Name')\n",
    "plt.ylabel('Count')\n",
    "plt.xticks(rotation=45, ha='right')\n",
    "plt.show()"
   ]
  },
  {
   "cell_type": "markdown",
   "metadata": {},
   "source": [
    "# Categorical Variables in the trips_data Dataset\n",
    "\n",
    "The trips_data dataset includes several categorical variables, which provide information in non-numeric formats. Here's a summary of the categorical variables in the dataset:\n",
    "\n",
    "☪️idDriver (object):\n",
    "\n",
    "Represents the unique identifier for the driver associated with the bike trip.\n",
    "Categorical variable identifying individual drivers.\n",
    "\n",
    "☪️unlock_hour (object):\n",
    "\n",
    "Denotes the hour at which the bike was unlocked.\n",
    "Categorical variable representing the time of day.\n",
    "\n",
    "☪️unlock_station_name (object):\n",
    "\n",
    "Indicates the name or identifier of the station where the bike was unlocked.\n",
    "Categorical variable identifying the station.\n",
    "\n",
    "☪️lock_hour (object):\n",
    "\n",
    "Denotes the hour at which the bike was locked.\n",
    "Categorical variable representing the time of day.\n",
    "\n",
    "☪️lock_station_name (object):\n",
    "\n",
    "Indicates the name or identifier of the station where the bike was locked.\n",
    "\n",
    "Categorical variable identifying the station.\n",
    "\n",
    "These categorical variables provide additional context and details about the bike trips, including driver information, unlock and lock times, and station identifiers. "
   ]
  },
  {
   "cell_type": "markdown",
   "metadata": {},
   "source": [
    "# Correlation Matrix"
   ]
  },
  {
   "cell_type": "code",
   "execution_count": null,
   "metadata": {},
   "outputs": [],
   "source": [
    "# Visualize the correlation between numerical variables\n",
    "numerical_columns = ['trip_minutes', 'fleet', 'latitude_unlock', 'longitude_unlock',\n",
    "                     'station_unlock', 'dock_unlock', 'latitude_lock', 'longitude_lock',\n",
    "                     'station_lock', 'dock_lock']\n",
    "\n",
    "correlation_matrix = trips_data[numerical_columns].corr()\n",
    "\n",
    "plt.figure(figsize=(12, 8))\n",
    "sns.heatmap(correlation_matrix, annot=True, cmap='coolwarm', fmt=\".2f\")\n",
    "plt.title('Correlation Matrix of Numerical Variables')\n",
    "plt.show()"
   ]
  },
  {
   "cell_type": "markdown",
   "metadata": {},
   "source": [
    "***Analysis of multivariate variables***\n",
    "\n",
    "Moving on to multivariable analysis in Exploratory Data Analysis (EDA) allows you to explore relationships between multiple variables simultaneously."
   ]
  },
  {
   "cell_type": "markdown",
   "metadata": {},
   "source": [
    "* Numerical-numerical analysis"
   ]
  },
  {
   "cell_type": "code",
   "execution_count": null,
   "metadata": {},
   "outputs": [],
   "source": [
    "# Numerical-Numerical Analysis\n",
    "fig, axis = plt.subplots(2, 2, figsize=(10, 7))\n",
    "\n",
    "# Create a multiple scatter plot for \"trip_minutes\" and other numeric variables\n",
    "sns.regplot(ax=axis[0, 0], data=trips_data, x=\"fleet\", y=\"trip_minutes\")\n",
    "sns.regplot(ax=axis[0, 1], data=trips_data, x=\"latitude_unlock\", y=\"trip_minutes\")\n",
    "sns.regplot(ax=axis[1, 0], data=trips_data, x=\"longitude_unlock\", y=\"trip_minutes\")\n",
    "sns.regplot(ax=axis[1, 1], data=trips_data, x=\"station_unlock\", y=\"trip_minutes\")\n",
    "\n",
    "# Adjust the layout\n",
    "plt.tight_layout()\n",
    "\n",
    "# Show the plot\n",
    "plt.show()"
   ]
  },
  {
   "cell_type": "markdown",
   "metadata": {},
   "source": [
    "* Categorical-categorical analysis"
   ]
  },
  {
   "cell_type": "code",
   "execution_count": null,
   "metadata": {},
   "outputs": [],
   "source": [
    "\n",
    "fig, axis = plt.subplots(2, 3, figsize=(15, 7))\n",
    "\n",
    "sns.countplot(ax=axis[0, 0], data=trips_data, x=\"idDriver\")\n",
    "sns.countplot(ax=axis[0, 1], data=trips_data, x=\"unlock_hour\")\n",
    "sns.countplot(ax=axis[0, 2], data=trips_data, x=\"unlock_station_name\").set(ylabel=None)\n",
    "sns.countplot(ax=axis[1, 0], data=trips_data, x=\"lock_hour\")\n",
    "sns.countplot(ax=axis[1, 1], data=trips_data, x=\"lock_station_name\").set(ylabel=None)\n",
    "\n",
    "# Ajust layout\n",
    "plt.tight_layout()\n",
    "\n",
    "# Delete last axis (unused)\n",
    "fig.delaxes(axis[1, 2])\n",
    "\n",
    "# Show plot\n",
    "plt.show()"
   ]
  },
  {
   "cell_type": "markdown",
   "metadata": {},
   "source": [
    "* Combinations of class with various predictors"
   ]
  },
  {
   "cell_type": "code",
   "execution_count": null,
   "metadata": {},
   "outputs": [],
   "source": [
    "# Combinations of trip_minutes with various predictors\n",
    "fig, axis = plt.subplots(figsize=(15, 5), ncols=4)\n",
    "\n",
    "# Bar plot for trip_minutes with idDriver\n",
    "sns.barplot(ax=axis[0], data=trips_data, x=\"idDriver\", y=\"trip_minutes\")\n",
    "axis[0].set_title(\"Trip Duration vs idDriver\")\n",
    "\n",
    "# Bar plot for trip_minutes with latitude_unlock\n",
    "sns.barplot(ax=axis[1], data=trips_data, x=\"latitude_unlock\", y=\"trip_minutes\")\n",
    "axis[1].set_title(\"Trip Duration vs Latitude Unlock\")\n",
    "\n",
    "# Bar plot for trip_minutes with longitude_unlock\n",
    "sns.barplot(ax=axis[2], data=trips_data, x=\"longitude_unlock\", y=\"trip_minutes\")\n",
    "axis[2].set_title(\"Trip Duration vs Longitude Unlock\")\n",
    "\n",
    "# Bar plot for trip_minutes with idBike\n",
    "sns.barplot(ax=axis[3], data=trips_data, x=\"idBike\", y=\"trip_minutes\")\n",
    "axis[3].set_title(\"Trip Duration vs idBike\")\n",
    "\n",
    "# Adjust the layout\n",
    "plt.tight_layout()\n",
    "\n",
    "# Show the plot\n",
    "plt.show()"
   ]
  },
  {
   "cell_type": "markdown",
   "metadata": {},
   "source": [
    "* Correlation analysis"
   ]
  },
  {
   "cell_type": "code",
   "execution_count": null,
   "metadata": {},
   "outputs": [],
   "source": [
    "# Factorize categorical variables\n",
    "trips_data_factorized = trips_data.copy()\n",
    "for column in ['idDriver', 'unlock_hour', 'unlock_station_name', 'lock_hour', 'lock_station_name']:\n",
    "    trips_data_factorized[column + '_n'] = pd.factorize(trips_data[column])[0]\n",
    "\n",
    "# Set up the matplotlib figure\n",
    "fig, axis = plt.subplots(figsize=(18, 15))\n",
    "\n",
    "# Create a heatmap of the correlation matrix\n",
    "sns.heatmap(trips_data_factorized.corr(), annot=True, cmap=\"coolwarm\", fmt=\".2f\")\n",
    "\n",
    "# Adjust the layout\n",
    "plt.tight_layout()\n",
    "\n",
    "# Show the plot\n",
    "plt.show()\n"
   ]
  },
  {
   "cell_type": "markdown",
   "metadata": {},
   "source": [
    "* Numerical-categorical analysis (complete)"
   ]
  },
  {
   "cell_type": "code",
   "execution_count": null,
   "metadata": {},
   "outputs": [],
   "source": [
    "# Set up the matplotlib figure\n",
    "fig, axis = plt.subplots(figsize=(12, 8))\n",
    "\n",
    "# Create a heatmap of the correlation matrix between numerical and factorized categorical variables\n",
    "sns.heatmap(trips_data_factorized[[\"trip_minutes\", \"idBike\", \"fleet\", \"latitude_unlock\", \"longitude_unlock\", \"station_unlock\", \"dock_unlock\", \"latitude_lock\", \"longitude_lock\", \"station_lock\", \"dock_lock\", \"idDriver_n\", \"unlock_hour_n\", \"unlock_station_name_n\", \"lock_hour_n\", \"lock_station_name_n\"]].corr(), annot=True, cmap=\"coolwarm\", fmt=\".2f\")\n",
    "\n",
    "# Adjust the layout\n",
    "plt.tight_layout()\n",
    "\n",
    "# Show the plot\n",
    "plt.show()\n"
   ]
  },
  {
   "cell_type": "markdown",
   "metadata": {},
   "source": [
    "***Feature engineering*** -> Sigue Rubén"
   ]
  },
  {
   "cell_type": "markdown",
   "metadata": {},
   "source": [
    "* Outlier analysis -> Solo graficar (no se esperan outliers)"
   ]
  },
  {
   "cell_type": "markdown",
   "metadata": {},
   "source": [
    "* Missing value analysis -> No se esperan MV"
   ]
  },
  {
   "cell_type": "markdown",
   "metadata": {},
   "source": [
    "* Inference of new features -> Investigar: Trip Distance: You can calculate the distance covered during each trip based on the latitude and longitude information at unlock and lock times. This could provide insights into the length of the trips.\n",
    "\n",
    "Trip Speed: By combining the trip distance with the trip duration (trip_minutes), you can calculate the average speed of each trip. This might be an interesting feature to explore.\n",
    "\n",
    "Trip Day of the Week: Extracting the day of the week from the unlock_date can provide information about whether trip patterns vary on specific days.\n",
    "\n",
    "Trip Duration Category: Create categories for short, medium, and long trips based on the trip_minutes to identify different types of trips.\n",
    "\n",
    "Station Activity: Count the number of unlocks and locks at each station to understand the activity level of different stations.\n",
    "\n",
    "Time of Day Category: Categorize the unlock and lock times into different time periods (morning, afternoon, evening, night) to analyze if trip characteristics vary throughout the day.\n",
    "\n",
    "Travel Direction: Determine the compass direction (North, South, East, West) of each trip based on the latitude and longitude information to understand the general direction of travel.\n",
    "\n",
    "Lock-Unlock Time Gap: Calculate the time gap between consecutive locks and unlocks to identify patterns in bike usage frequency."
   ]
  },
  {
   "cell_type": "markdown",
   "metadata": {},
   "source": [
    "* Feature scaling -> Juan"
   ]
  },
  {
   "cell_type": "markdown",
   "metadata": {},
   "source": [
    "* Normalization / Mix-Max Scaling -> Juan"
   ]
  },
  {
   "cell_type": "markdown",
   "metadata": {},
   "source": [
    "***Feature selection*** -> Juan"
   ]
  },
  {
   "cell_type": "markdown",
   "metadata": {},
   "source": [
    "***Save the interim data*** -> JuanL"
   ]
  },
  {
   "cell_type": "code",
   "execution_count": null,
   "metadata": {},
   "outputs": [],
   "source": []
  },
  {
   "cell_type": "code",
   "execution_count": null,
   "metadata": {},
   "outputs": [],
   "source": [
    "'''# Creamos una función para proceder a la limpieza y adecuación del conjunto de datos \n",
    "def limpieza_datos (trips_data):\n",
    "  # Eliminamos las entradas de los viajes que han durado más de 2h\n",
    "  trips_data = trips_data[trips_data[\"trip_minutes\"] <= 120]\n",
    "  # Eliminamos las entradas de los viajes que han durado menos de 3 minutos\n",
    "  trips_data = trips_data[trips_data[\"trip_minutes\"] >= 3]\n",
    "  # Eliminamos los números de las estaciones\n",
    "  trips_data['unlock_station_name'] = trips_data['unlock_station_name'].str.replace('\\d+\\s*\\-\\s*', '')\n",
    "  trips_data['lock_station_name'] = trips_data['lock_station_name'].str.replace('\\d+\\s*\\-\\s*', '')\n",
    "  # Eliminamos los registros en los que el formato de fecha se encuentre mal introducido\n",
    "  trips_data['unlock_date'] = pd.to_datetime(trips_data['unlock_date'], format='%Y-%m-%dT%H:%M:%S', errors='coerce')\n",
    "  trips_data = trips_data.dropna(subset=['unlock_date'])\n",
    "  # Devolvemos la tabla de datos\n",
    "  return trips_data\n",
    "  '''"
   ]
  }
 ],
 "metadata": {
  "kernelspec": {
   "display_name": "Python 3",
   "language": "python",
   "name": "python3"
  },
  "language_info": {
   "codemirror_mode": {
    "name": "ipython",
    "version": 3
   },
   "file_extension": ".py",
   "mimetype": "text/x-python",
   "name": "python",
   "nbconvert_exporter": "python",
   "pygments_lexer": "ipython3",
   "version": "3.10.11"
  }
 },
 "nbformat": 4,
 "nbformat_minor": 2
}
