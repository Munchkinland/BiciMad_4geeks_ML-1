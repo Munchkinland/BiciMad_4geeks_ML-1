{
 "cells": [
  {
   "cell_type": "markdown",
   "metadata": {},
   "source": [
    "# Exploratory Data Analysis"
   ]
  },
  {
   "cell_type": "markdown",
   "metadata": {},
   "source": [
    "***Import neccessary libraries***"
   ]
  },
  {
   "cell_type": "code",
   "execution_count": 16,
   "metadata": {},
   "outputs": [],
   "source": [
    "import pandas as pd\n",
    "import matplotlib.pyplot as plt\n",
    "import seaborn as sns\n",
    "import numpy as np\n",
    "import random"
   ]
  },
  {
   "cell_type": "markdown",
   "metadata": {},
   "source": [
    "### EDA"
   ]
  },
  {
   "cell_type": "markdown",
   "metadata": {},
   "source": [
    "***Read the files***"
   ]
  },
  {
   "cell_type": "code",
   "execution_count": 2,
   "metadata": {},
   "outputs": [],
   "source": [
    "data_trips = pd.read_csv('../data/processed/clean_data_trips.csv', sep=',', low_memory=False)\n",
    "data_stations = pd.read_csv('../data/processed/clean_data_stations.csv', sep=',', low_memory=False)"
   ]
  },
  {
   "cell_type": "markdown",
   "metadata": {},
   "source": [
    "***Exploration and data cleaning***"
   ]
  },
  {
   "cell_type": "code",
   "execution_count": 4,
   "metadata": {},
   "outputs": [
    {
     "name": "stdout",
     "output_type": "stream",
     "text": [
      "<class 'pandas.core.frame.DataFrame'>\n",
      "RangeIndex: 4144134 entries, 0 to 4144133\n",
      "Data columns (total 22 columns):\n",
      " #   Column               Non-Null Count    Dtype  \n",
      "---  ------               --------------    -----  \n",
      " 0   idDriver             2102989 non-null  object \n",
      " 1   idBike               4144134 non-null  int64  \n",
      " 2   trip_minutes         4144134 non-null  float64\n",
      " 3   fleet                4144134 non-null  int64  \n",
      " 4   unlock_date          4144134 non-null  object \n",
      " 5   unlock_hour          4144134 non-null  object \n",
      " 6   latitude_unlock      4144134 non-null  float64\n",
      " 7   longitude_unlock     4144134 non-null  float64\n",
      " 8   address_unlock       3595660 non-null  object \n",
      " 9   unlocktype           4144134 non-null  object \n",
      " 10  station_unlock       4144134 non-null  int64  \n",
      " 11  dock_unlock          4144134 non-null  int64  \n",
      " 12  unlock_station_name  4127342 non-null  object \n",
      " 13  lock_date            4144134 non-null  object \n",
      " 14  lock_hour            4144134 non-null  object \n",
      " 15  latitude_lock        4144131 non-null  float64\n",
      " 16  longitude_lock       4144131 non-null  float64\n",
      " 17  address_lock         3596532 non-null  object \n",
      " 18  locktype             4144134 non-null  object \n",
      " 19  station_lock         4144134 non-null  int64  \n",
      " 20  dock_lock            4144134 non-null  int64  \n",
      " 21  lock_station_name    4124227 non-null  object \n",
      "dtypes: float64(5), int64(6), object(11)\n",
      "memory usage: 695.6+ MB\n"
     ]
    }
   ],
   "source": [
    "data_trips.info(show_counts=True)"
   ]
  },
  {
   "cell_type": "markdown",
   "metadata": {},
   "source": [
    "-  We have 4144134 rows corresponding to an entire year of data collection with 32 columns of varied data\n",
    "- There are variables with Null values ​​that indicate that some of the columns have not been identified, for example, idDriver\n",
    "-  There are 21 numerical variables and 11 categorical variables\n"
   ]
  },
  {
   "cell_type": "markdown",
   "metadata": {},
   "source": [
    "* Eliminate duplicates"
   ]
  },
  {
   "cell_type": "code",
   "execution_count": 5,
   "metadata": {},
   "outputs": [],
   "source": [
    "data_trips = data_trips.drop_duplicates()\n",
    "data_stations = data_stations.drop_duplicates()"
   ]
  },
  {
   "cell_type": "markdown",
   "metadata": {},
   "source": [
    "* Eliminate irrelevant information"
   ]
  },
  {
   "cell_type": "code",
   "execution_count": 9,
   "metadata": {},
   "outputs": [],
   "source": [
    "data_trips.drop(['address_unlock', 'unlocktype', 'address_lock', 'locktype'], axis=1, inplace=True)"
   ]
  },
  {
   "cell_type": "code",
   "execution_count": 6,
   "metadata": {},
   "outputs": [],
   "source": [
    "data_trips = data_trips.dropna(subset=['idDriver'])"
   ]
  },
  {
   "cell_type": "code",
   "execution_count": 7,
   "metadata": {},
   "outputs": [],
   "source": [
    "data_trips = data_trips[data_trips[\"trip_minutes\"] <= 120]\n",
    "data_trips = data_trips[data_trips[\"trip_minutes\"] >= 3]"
   ]
  },
  {
   "cell_type": "code",
   "execution_count": 11,
   "metadata": {},
   "outputs": [],
   "source": [
    "data_trips = data_trips.dropna(subset=['unlock_station_name'])\n",
    "data_trips = data_trips.dropna(subset=['lock_station_name'])"
   ]
  },
  {
   "cell_type": "code",
   "execution_count": null,
   "metadata": {},
   "outputs": [],
   "source": [
    "# Convierte 'unlock_date' a datetime\n",
    "data_trips['unlock_date'] = pd.to_datetime(data_trips['unlock_date'])\n",
    "\n",
    "# Crea un nuevo DataFrame vacío\n",
    "data_trips_red = pd.DataFrame()\n",
    "\n",
    "while len(data_trips_red) < 60000:\n",
    "    # Selecciona un mes aleatorio\n",
    "    mes = pd.Timestamp(random.choice(data_trips['unlock_date'])).month\n",
    "    \n",
    "    # Filtra las filas de 'data_trips' que pertenecen al mes seleccionado\n",
    "    df_mes = data_trips[data_trips['unlock_date'].dt.month == mes]\n",
    "    \n",
    "    # Calcula el porcentaje de datos que se deben tomar del mes\n",
    "    porcentaje = min(1, 60000 / len(df_mes))\n",
    "    \n",
    "    # Toma una muestra aleatoria de 'df_mes'\n",
    "    df_muestra = df_mes.sample(frac=porcentaje)\n",
    "    \n",
    "    # Agrega la muestra al nuevo DataFrame\n",
    "    data_trips_red = pd.concat([data_trips_red, df_muestra], ignore_index=True)\n",
    "\n",
    "# Ordena el nuevo DataFrame por 'unlock_date'\n",
    "data_trips_red = data_trips_red.sort_values('unlock_date')\n",
    "\n"
   ]
  },
  {
   "cell_type": "code",
   "execution_count": 22,
   "metadata": {},
   "outputs": [
    {
     "name": "stdout",
     "output_type": "stream",
     "text": [
      "<class 'pandas.core.frame.DataFrame'>\n",
      "Index: 60000 entries, 8043 to 33698\n",
      "Data columns (total 18 columns):\n",
      " #   Column               Non-Null Count  Dtype         \n",
      "---  ------               --------------  -----         \n",
      " 0   idDriver             60000 non-null  object        \n",
      " 1   idBike               60000 non-null  int64         \n",
      " 2   trip_minutes         60000 non-null  float64       \n",
      " 3   fleet                60000 non-null  int64         \n",
      " 4   unlock_date          60000 non-null  datetime64[ns]\n",
      " 5   unlock_hour          60000 non-null  object        \n",
      " 6   latitude_unlock      60000 non-null  float64       \n",
      " 7   longitude_unlock     60000 non-null  float64       \n",
      " 8   station_unlock       60000 non-null  int64         \n",
      " 9   dock_unlock          60000 non-null  int64         \n",
      " 10  unlock_station_name  60000 non-null  object        \n",
      " 11  lock_date            60000 non-null  object        \n",
      " 12  lock_hour            60000 non-null  object        \n",
      " 13  latitude_lock        60000 non-null  float64       \n",
      " 14  longitude_lock       60000 non-null  float64       \n",
      " 15  station_lock         60000 non-null  int64         \n",
      " 16  dock_lock            60000 non-null  int64         \n",
      " 17  lock_station_name    60000 non-null  object        \n",
      "dtypes: datetime64[ns](1), float64(5), int64(6), object(6)\n",
      "memory usage: 8.7+ MB\n"
     ]
    }
   ],
   "source": [
    "data_trips_red.info(show_counts=True)"
   ]
  },
  {
   "cell_type": "markdown",
   "metadata": {},
   "source": [
    "*** ¡Hay una incongruencia en la relación de los dos datsets en los números de las estaciones!. El nombre coincide, pero los números hay varios que varian, puesto que en data_trips empiezan por 1=Puerta de Sol A y en data_stations con 1A directamente ***"
   ]
  },
  {
   "cell_type": "markdown",
   "metadata": {},
   "source": [
    "***Analysis of univariate variables***"
   ]
  },
  {
   "cell_type": "code",
   "execution_count": null,
   "metadata": {},
   "outputs": [],
   "source": [
    "import matplotlib.pyplot as plt\n",
    "import seaborn as sns\n",
    "\n",
    "# Select all numeric variables, excluding 'trip_minutes'\n",
    "numeric_variables = ['fleet', 'latitude_unlock', 'longitude_unlock',\n",
    "                     'station_unlock', 'dock_unlock', 'lock_date',\n",
    "                     'latitude_lock', 'longitude_lock', 'station_lock', 'dock_lock']\n",
    "\n",
    "# Create a pairplot for the numeric variables\n",
    "sns.pairplot(trips_data, x_vars=numeric_variables,\n",
    "             y_vars='trip_minutes', kind='scatter', height=5)\n",
    "plt.suptitle('Relationship between Trip Duration and Other Numeric Variables', y=1.02)\n",
    "plt.show()\n"
   ]
  },
  {
   "cell_type": "markdown",
   "metadata": {},
   "source": [
    "* Analysis on categorical variables"
   ]
  },
  {
   "cell_type": "code",
   "execution_count": null,
   "metadata": {},
   "outputs": [],
   "source": [
    "import seaborn as sns\n",
    "import matplotlib.pyplot as plt\n",
    "\n",
    "# Seleccionar variables categóricas para el análisis\n",
    "categorical_variables = ['unlock_hour', 'lock_hour', 'unlock_station_name', 'lock_station_name']\n",
    "\n",
    "# Crear un DataFrame con las variables categóricas\n",
    "categorical_data = trips_data[categorical_variables]\n",
    "\n",
    "# Crear una tabla de contingencia\n",
    "contingency_table = pd.crosstab(index=categorical_data['unlock_hour'], columns=categorical_data['lock_hour'])\n",
    "\n",
    "# Plotear un heatmap de la tabla de contingencia\n",
    "plt.figure(figsize=(12, 8))\n",
    "sns.heatmap(contingency_table, cmap='viridis', annot=True, fmt='d', linewidths=0.5)\n",
    "plt.title('Categorical-Categorical Analysis Heatmap')\n",
    "plt.show()\n"
   ]
  },
  {
   "cell_type": "markdown",
   "metadata": {},
   "source": [
    "* Analysis on numeric variables"
   ]
  },
  {
   "cell_type": "code",
   "execution_count": null,
   "metadata": {},
   "outputs": [],
   "source": [
    "import seaborn as sns\n",
    "import matplotlib.pyplot as plt\n",
    "\n",
    "# Selecting numeric variables for correlation analysis\n",
    "numeric_variables = ['fleet', 'latitude_unlock', 'longitude_unlock',\n",
    "                     'station_unlock', 'dock_unlock', 'latitude_lock',\n",
    "                     'longitude_lock', 'station_lock', 'dock_lock', 'trip_minutes']\n",
    "\n",
    "# Creating a correlation matrix\n",
    "correlation_matrix = trips_data[numeric_variables].corr()\n",
    "\n",
    "# Plotting the heatmap\n",
    "plt.figure(figsize=(12, 8))\n",
    "sns.heatmap(correlation_matrix, annot=True, cmap='coolwarm', fmt=\".2f\", linewidths=0.5)\n",
    "plt.title('Correlation Heatmap')\n",
    "plt.show()\n"
   ]
  },
  {
   "cell_type": "markdown",
   "metadata": {},
   "source": [
    "***Analysis of multivariate variables***"
   ]
  },
  {
   "cell_type": "markdown",
   "metadata": {},
   "source": [
    "* Numerical-numerical analysis"
   ]
  },
  {
   "cell_type": "code",
   "execution_count": null,
   "metadata": {},
   "outputs": [],
   "source": [
    "import seaborn as sns\n",
    "import matplotlib.pyplot as plt\n",
    "\n",
    "# Numerical-Numerical Analysis\n",
    "fig, axis = plt.subplots(2, 2, figsize=(10, 7))\n",
    "\n",
    "# Create a multiple scatter plot for \"trip_minutes\" and other numeric variables\n",
    "sns.regplot(ax=axis[0, 0], data=trips_data, x=\"fleet\", y=\"trip_minutes\")\n",
    "sns.regplot(ax=axis[0, 1], data=trips_data, x=\"latitude_unlock\", y=\"trip_minutes\")\n",
    "sns.regplot(ax=axis[1, 0], data=trips_data, x=\"longitude_unlock\", y=\"trip_minutes\")\n",
    "sns.regplot(ax=axis[1, 1], data=trips_data, x=\"station_unlock\", y=\"trip_minutes\")\n",
    "\n",
    "# Adjust the layout\n",
    "plt.tight_layout()\n",
    "\n",
    "# Show the plot\n",
    "plt.show()\n",
    "\n"
   ]
  },
  {
   "cell_type": "markdown",
   "metadata": {},
   "source": [
    "* Categorical-categorical analysis"
   ]
  },
  {
   "cell_type": "code",
   "execution_count": null,
   "metadata": {},
   "outputs": [],
   "source": [
    "import seaborn as sns\n",
    "import matplotlib.pyplot as plt\n",
    "\n",
    "# Categorical-Categorical Analysis\n",
    "fig, axis = plt.subplots(2, 3, figsize=(15, 7))\n",
    "\n",
    "# Countplot for \"idDriver\" with hue \"Survived\"\n",
    "sns.countplot(ax=axis[0, 0], data=data_trips_red, x=\"idDriver\")\n",
    "\n",
    "# Countplot for \"unlock_hour\" with hue \"Survived\"\n",
    "sns.countplot(ax=axis[0, 1], data=data_trips_red, x=\"unlock_hour\")\n",
    "\n",
    "# Countplot for \"unlock_station_name\" with hue \"Survived\"\n",
    "sns.countplot(ax=axis[0, 2], data=data_trips_red, x=\"unlock_station_name\").set(ylabel=None)\n",
    "\n",
    "# Countplot for \"lock_hour\" with hue \"Survived\"\n",
    "sns.countplot(ax=axis[1, 0], data=data_trips_red, x=\"lock_hour\")\n",
    "\n",
    "# Countplot for \"lock_station_name\" with hue \"Survived\"\n",
    "sns.countplot(ax=axis[1, 1], data=data_trips_red, x=\"lock_station_name\").set(ylabel=None)\n",
    "\n",
    "# Adjust the layout\n",
    "plt.tight_layout()\n",
    "\n",
    "# Remove the last axis (not used)\n",
    "fig.delaxes(axis[1, 2])\n",
    "\n",
    "# Show the plot\n",
    "plt.show()\n",
    "\n"
   ]
  },
  {
   "cell_type": "markdown",
   "metadata": {},
   "source": [
    "* Combinations of class with various predictors"
   ]
  },
  {
   "cell_type": "code",
   "execution_count": null,
   "metadata": {},
   "outputs": [],
   "source": [
    "import seaborn as sns\n",
    "import matplotlib.pyplot as plt\n",
    "\n",
    "# Combinations of trip_minutes with various predictors\n",
    "fig, axis = plt.subplots(figsize=(15, 5), ncols=4)\n",
    "\n",
    "# Bar plot for trip_minutes with idDriver\n",
    "sns.barplot(ax=axis[0], data=data_trips_red, x=\"idDriver\", y=\"trip_minutes\")\n",
    "axis[0].set_title(\"Trip Duration vs idDriver\")\n",
    "\n",
    "# Bar plot for trip_minutes with latitude_unlock\n",
    "sns.barplot(ax=axis[1], data=data_trips_red, x=\"latitude_unlock\", y=\"trip_minutes\")\n",
    "axis[1].set_title(\"Trip Duration vs Latitude Unlock\")\n",
    "\n",
    "# Bar plot for trip_minutes with longitude_unlock\n",
    "sns.barplot(ax=axis[2], data=data_trips_red, x=\"longitude_unlock\", y=\"trip_minutes\")\n",
    "axis[2].set_title(\"Trip Duration vs Longitude Unlock\")\n",
    "\n",
    "# Bar plot for trip_minutes with idBike\n",
    "sns.barplot(ax=axis[3], data=data_trips_red, x=\"idBike\", y=\"trip_minutes\")\n",
    "axis[3].set_title(\"Trip Duration vs idBike\")\n",
    "\n",
    "# Adjust the layout\n",
    "plt.tight_layout()\n",
    "\n",
    "# Show the plot\n",
    "plt.show()\n"
   ]
  },
  {
   "cell_type": "markdown",
   "metadata": {},
   "source": [
    "* Correlation analysis"
   ]
  },
  {
   "cell_type": "code",
   "execution_count": null,
   "metadata": {},
   "outputs": [],
   "source": [
    "import seaborn as sns\n",
    "import matplotlib.pyplot as plt\n",
    "\n",
    "# Factorize categorical variables\n",
    "trips_data_factorized = trips_data.copy()\n",
    "for column in ['idDriver', 'unlock_hour', 'unlock_station_name', 'lock_hour', 'lock_station_name']:\n",
    "    trips_data_factorized[column + '_n'] = pd.factorize(trips_data[column])[0]\n",
    "\n",
    "# Set up the matplotlib figure\n",
    "fig, axis = plt.subplots(figsize=(18, 15))\n",
    "\n",
    "# Create a heatmap of the correlation matrix\n",
    "sns.heatmap(trips_data_factorized.corr(), annot=True, cmap=\"coolwarm\", fmt=\".2f\")\n",
    "\n",
    "# Adjust the layout\n",
    "plt.tight_layout()\n",
    "\n",
    "# Show the plot\n",
    "plt.show()"
   ]
  },
  {
   "cell_type": "markdown",
   "metadata": {},
   "source": [
    "* Numerical-categorical analysis (complete)"
   ]
  },
  {
   "cell_type": "code",
   "execution_count": null,
   "metadata": {},
   "outputs": [],
   "source": [
    "import seaborn as sns\n",
    "import matplotlib.pyplot as plt\n",
    "\n",
    "# Factorize categorical variables\n",
    "trips_data_factorized = trips_data.copy()\n",
    "for column in ['idDriver', 'unlock_hour', 'unlock_station_name', 'lock_hour', 'lock_station_name']:\n",
    "    trips_data_factorized[column + '_n'] = pd.factorize(trips_data[column])[0]\n",
    "\n",
    "# Set up the matplotlib figure\n",
    "fig, axis = plt.subplots(figsize=(12, 8))\n",
    "\n",
    "# Create a heatmap of the correlation matrix between numerical and factorized categorical variables\n",
    "sns.heatmap(trips_data_factorized[[\"trip_minutes\", \"idBike\", \"fleet\", \"latitude_unlock\", \"longitude_unlock\", \"station_unlock\", \"dock_unlock\", \"latitude_lock\", \"longitude_lock\", \"station_lock\", \"dock_lock\", \"idDriver_n\", \"unlock_hour_n\", \"unlock_station_name_n\", \"lock_hour_n\", \"lock_station_name_n\"]].corr(), annot=True, cmap=\"coolwarm\", fmt=\".2f\")\n",
    "\n",
    "# Adjust the layout\n",
    "plt.tight_layout()\n",
    "\n",
    "# Show the plot\n",
    "plt.show()\n",
    "\n"
   ]
  },
  {
   "cell_type": "markdown",
   "metadata": {},
   "source": [
    "***Feature engineering***"
   ]
  },
  {
   "cell_type": "markdown",
   "metadata": {},
   "source": [
    "* Outlier analysis: No se esperan"
   ]
  },
  {
   "cell_type": "markdown",
   "metadata": {},
   "source": [
    "* Missing value analysis: No se esperan"
   ]
  },
  {
   "cell_type": "markdown",
   "metadata": {},
   "source": [
    "* Inference of new features: Revisar potential new features\n",
    "Trip Distance: You can calculate the distance covered during each trip based on the latitude and longitude information at unlock and lock times. This could provide insights into the length of the trips.\n",
    "\n",
    "Trip Speed: By combining the trip distance with the trip duration (trip_minutes), you can calculate the average speed of each trip. This might be an interesting feature to explore.\n",
    "\n",
    "Trip Day of the Week: Extracting the day of the week from the unlock_date can provide information about whether trip patterns vary on specific days.\n",
    "\n",
    "Trip Duration Category: Create categories for short, medium, and long trips based on the trip_minutes to identify different types of trips.\n",
    "\n",
    "Station Activity: Count the number of unlocks and locks at each station to understand the activity level of different stations.\n",
    "\n",
    "Time of Day Category: Categorize the unlock and lock times into different time periods (morning, afternoon, evening, night) to analyze if trip characteristics vary throughout the day.\n",
    "\n",
    "Travel Direction: Determine the compass direction (North, South, East, West) of each trip based on the latitude and longitude information to understand the general direction of travel.\n",
    "\n",
    "Lock-Unlock Time Gap: Calculate the time gap between consecutive locks and unlocks to identify patterns in bike usage frequency."
   ]
  },
  {
   "cell_type": "markdown",
   "metadata": {},
   "source": [
    "* Feature scaling: JUAN"
   ]
  },
  {
   "cell_type": "markdown",
   "metadata": {},
   "source": [
    "* Normalization / Mix-Max Scaling: JUAN"
   ]
  },
  {
   "cell_type": "markdown",
   "metadata": {},
   "source": [
    "***Feature selection*** JUAN"
   ]
  },
  {
   "cell_type": "markdown",
   "metadata": {},
   "source": [
    "***Save the interim data*** JUAN"
   ]
  },
  {
   "cell_type": "code",
   "execution_count": null,
   "metadata": {},
   "outputs": [],
   "source": []
  },
  {
   "cell_type": "code",
   "execution_count": null,
   "metadata": {},
   "outputs": [],
   "source": [
    "'''# Creamos una función para proceder a la limpieza y adecuación del conjunto de datos \n",
    "def limpieza_datos (trips_data):\n",
    "  # Eliminamos las entradas de los viajes que han durado más de 2h\n",
    "  trips_data = trips_data[trips_data[\"trip_minutes\"] <= 120]\n",
    "  # Eliminamos las entradas de los viajes que han durado menos de 3 minutos\n",
    "  trips_data = trips_data[trips_data[\"trip_minutes\"] >= 3]\n",
    "  # Eliminamos los números de las estaciones\n",
    "  trips_data['unlock_station_name'] = trips_data['unlock_station_name'].str.replace('\\d+\\s*\\-\\s*', '')\n",
    "  trips_data['lock_station_name'] = trips_data['lock_station_name'].str.replace('\\d+\\s*\\-\\s*', '')\n",
    "  # Eliminamos los registros en los que el formato de fecha se encuentre mal introducido\n",
    "  trips_data['unlock_date'] = pd.to_datetime(trips_data['unlock_date'], format='%Y-%m-%dT%H:%M:%S', errors='coerce')\n",
    "  trips_data = trips_data.dropna(subset=['unlock_date'])\n",
    "  # Devolvemos la tabla de datos\n",
    "  return trips_data\n",
    "  '''"
   ]
  }
 ],
 "metadata": {
  "kernelspec": {
   "display_name": "Python 3",
   "language": "python",
   "name": "python3"
  },
  "language_info": {
   "codemirror_mode": {
    "name": "ipython",
    "version": 3
   },
   "file_extension": ".py",
   "mimetype": "text/x-python",
   "name": "python",
   "nbconvert_exporter": "python",
   "pygments_lexer": "ipython3",
   "version": "3.12.0"
  }
 },
 "nbformat": 4,
 "nbformat_minor": 2
}
