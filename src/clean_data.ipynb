{
    "cells": [
        {
            "cell_type": "markdown",
            "metadata": {},
            "source": [
                "# Clean Data"
            ]
        },
        {
            "cell_type": "markdown",
            "metadata": {},
            "source": [
                "***Import libraries***"
            ]
        },
        {
            "cell_type": "code",
            "execution_count": 147,
            "metadata": {},
            "outputs": [],
            "source": [
                "import pandas as pd\n",
                "import datetime\n",
                "import ast\n",
                "import warnings\n",
                "warnings.filterwarnings(\"ignore\")"
            ]
        },
        {
            "cell_type": "markdown",
            "metadata": {},
            "source": [
                "### CSV FILE ###"
            ]
        },
        {
            "cell_type": "markdown",
            "metadata": {},
            "source": [
                "***Read data file***"
            ]
        },
        {
            "cell_type": "code",
            "execution_count": 148,
            "metadata": {},
            "outputs": [],
            "source": [
                "trips_data = pd.read_csv(\"../data/raw/csv/combined_csv.csv\", sep=\",\", low_memory=False)"
            ]
        },
        {
            "cell_type": "markdown",
            "metadata": {},
            "source": [
                "***Delete the null rows***"
            ]
        },
        {
            "cell_type": "code",
            "execution_count": 149,
            "metadata": {},
            "outputs": [],
            "source": [
                "trips_data.dropna(how=\"all\", inplace=True)"
            ]
        },
        {
            "cell_type": "code",
            "execution_count": 150,
            "metadata": {},
            "outputs": [
                {
                    "name": "stdout",
                    "output_type": "stream",
                    "text": [
                        "<class 'pandas.core.frame.DataFrame'>\n",
                        "Index: 4144134 entries, 1 to 8288267\n",
                        "Data columns (total 19 columns):\n",
                        " #   Column               Dtype  \n",
                        "---  ------               -----  \n",
                        " 0   fecha                object \n",
                        " 1   idTrip               object \n",
                        " 2   idBike               float64\n",
                        " 3   fleet                float64\n",
                        " 4   trip_minutes         float64\n",
                        " 5   geolocation_unlock   object \n",
                        " 6   address_unlock       object \n",
                        " 7   unlock_date          object \n",
                        " 8   locktype             object \n",
                        " 9   unlocktype           object \n",
                        " 10  geolocation_lock     object \n",
                        " 11  address_lock         object \n",
                        " 12  lock_date            object \n",
                        " 13  station_unlock       object \n",
                        " 14  dock_unlock          float64\n",
                        " 15  unlock_station_name  object \n",
                        " 16  station_lock         float64\n",
                        " 17  dock_lock            float64\n",
                        " 18  lock_station_name    object \n",
                        "dtypes: float64(6), object(13)\n",
                        "memory usage: 632.3+ MB\n"
                    ]
                }
            ],
            "source": [
                "trips_data.info()"
            ]
        },
        {
            "cell_type": "markdown",
            "metadata": {},
            "source": [
                "***Modify column contents***"
            ]
        },
        {
            "cell_type": "markdown",
            "metadata": {},
            "source": [
                "* Fecha"
            ]
        },
        {
            "cell_type": "code",
            "execution_count": 151,
            "metadata": {},
            "outputs": [],
            "source": [
                "trips_data.rename(columns={'fecha': 'unlock_date1'}, inplace=True)"
            ]
        },
        {
            "cell_type": "markdown",
            "metadata": {},
            "source": [
                "* idTrip"
            ]
        },
        {
            "cell_type": "code",
            "execution_count": 152,
            "metadata": {},
            "outputs": [],
            "source": [
                "trips_data['idTrip'] = trips_data['idTrip'].fillna(trips_data['idTrip']).str.slice(stop=9)\n",
                "trips_data.rename(columns={'idTrip': 'idDriver'}, inplace=True)"
            ]
        },
        {
            "cell_type": "markdown",
            "metadata": {},
            "source": [
                "* IdBike"
            ]
        },
        {
            "cell_type": "code",
            "execution_count": 153,
            "metadata": {},
            "outputs": [],
            "source": [
                "trips_data['idBike'] = trips_data['idBike'].astype(int)"
            ]
        },
        {
            "cell_type": "markdown",
            "metadata": {},
            "source": [
                "* Fleet"
            ]
        },
        {
            "cell_type": "code",
            "execution_count": 154,
            "metadata": {},
            "outputs": [],
            "source": [
                "trips_data['fleet'] = trips_data['fleet'].astype(int)"
            ]
        },
        {
            "cell_type": "markdown",
            "metadata": {},
            "source": [
                "* Geolocation_unlock"
            ]
        },
        {
            "cell_type": "code",
            "execution_count": 155,
            "metadata": {},
            "outputs": [],
            "source": [
                "trips_data['geolocation_unlock'] = trips_data['geolocation_unlock'].apply(ast.literal_eval)\n",
                "trips_data['latitude_unlock'] = trips_data['geolocation_unlock'].apply(lambda x: x['coordinates'][1])\n",
                "trips_data['longitude_unlock'] = trips_data['geolocation_unlock'].apply(lambda x: x['coordinates'][0])"
            ]
        },
        {
            "cell_type": "code",
            "execution_count": 156,
            "metadata": {},
            "outputs": [],
            "source": [
                "trips_data.drop(['geolocation_unlock'], axis=1, inplace=True)"
            ]
        },
        {
            "cell_type": "markdown",
            "metadata": {},
            "source": [
                "* Unlock_date"
            ]
        },
        {
            "cell_type": "code",
            "execution_count": 157,
            "metadata": {},
            "outputs": [],
            "source": [
                "trips_data['unlock_date'] = trips_data['unlock_date'].str.split('T').str[-1]\n",
                "trips_data.rename(columns={'unlock_date': 'unlock_hour'}, inplace=True)"
            ]
        },
        {
            "cell_type": "code",
            "execution_count": 158,
            "metadata": {},
            "outputs": [],
            "source": [
                "trips_data.rename(columns={'unlock_date1': 'unlock_date'}, inplace=True)"
            ]
        },
        {
            "cell_type": "markdown",
            "metadata": {},
            "source": [
                "* Geolocation_lock"
            ]
        },
        {
            "cell_type": "code",
            "execution_count": 159,
            "metadata": {},
            "outputs": [],
            "source": [
                "trips_data['geolocation_lock'] = trips_data['geolocation_lock'].apply(ast.literal_eval)\n",
                "trips_data['latitude_lock'] = trips_data['geolocation_lock'].apply(lambda x: x['coordinates'][1])\n",
                "trips_data['longitude_lock'] = trips_data['geolocation_lock'].apply(lambda x: x['coordinates'][0])"
            ]
        },
        {
            "cell_type": "code",
            "execution_count": 160,
            "metadata": {},
            "outputs": [],
            "source": [
                "trips_data.drop(['geolocation_lock'], axis=1, inplace=True)"
            ]
        },
        {
            "cell_type": "markdown",
            "metadata": {},
            "source": [
                "* Lock_date"
            ]
        },
        {
            "cell_type": "code",
            "execution_count": 161,
            "metadata": {},
            "outputs": [],
            "source": [
                "trips_data['lock_date'] = pd.to_datetime(trips_data['lock_date'])\n",
                "trips_data['lock_date1'] = trips_data['lock_date'].dt.date\n",
                "trips_data['lock_hour'] = trips_data['lock_date'].dt.time"
            ]
        },
        {
            "cell_type": "code",
            "execution_count": 162,
            "metadata": {},
            "outputs": [],
            "source": [
                "trips_data.drop(['lock_date'], axis=1, inplace=True)"
            ]
        },
        {
            "cell_type": "code",
            "execution_count": 163,
            "metadata": {},
            "outputs": [],
            "source": [
                "trips_data.rename(columns={'lock_date1': 'lock_date'}, inplace=True)"
            ]
        },
        {
            "cell_type": "markdown",
            "metadata": {},
            "source": [
                "* Station_unlock"
            ]
        },
        {
            "cell_type": "code",
            "execution_count": 164,
            "metadata": {},
            "outputs": [],
            "source": [
                "trips_data['station_unlock'] = pd.to_numeric(trips_data['station_unlock'], errors='coerce')\n",
                "trips_data['station_unlock'] = trips_data['station_unlock'].fillna(0).astype(int)"
            ]
        },
        {
            "cell_type": "markdown",
            "metadata": {},
            "source": [
                "* Dock_unlock"
            ]
        },
        {
            "cell_type": "code",
            "execution_count": 165,
            "metadata": {},
            "outputs": [],
            "source": [
                "trips_data['dock_unlock'] = pd.to_numeric(trips_data['dock_unlock'], errors='coerce')\n",
                "trips_data['dock_unlock'] = trips_data['dock_unlock'].fillna(0).astype(int)"
            ]
        },
        {
            "cell_type": "markdown",
            "metadata": {},
            "source": [
                "* Station_lock"
            ]
        },
        {
            "cell_type": "code",
            "execution_count": 166,
            "metadata": {},
            "outputs": [],
            "source": [
                "trips_data['station_lock'] = pd.to_numeric(trips_data['station_lock'], errors='coerce')\n",
                "trips_data['station_lock'] = trips_data['station_lock'].fillna(0).astype(int)"
            ]
        },
        {
            "cell_type": "markdown",
            "metadata": {},
            "source": [
                "* Dock_lock"
            ]
        },
        {
            "cell_type": "code",
            "execution_count": 167,
            "metadata": {},
            "outputs": [],
            "source": [
                "trips_data['dock_lock'] = pd.to_numeric(trips_data['dock_lock'], errors='coerce')\n",
                "trips_data['dock_lock'] = trips_data['dock_lock'].fillna(0).astype(int)"
            ]
        },
        {
            "cell_type": "markdown",
            "metadata": {},
            "source": [
                "***Sort the columns***"
            ]
        },
        {
            "cell_type": "code",
            "execution_count": 168,
            "metadata": {},
            "outputs": [
                {
                    "data": {
                        "text/html": [
                            "<div>\n",
                            "<style scoped>\n",
                            "    .dataframe tbody tr th:only-of-type {\n",
                            "        vertical-align: middle;\n",
                            "    }\n",
                            "\n",
                            "    .dataframe tbody tr th {\n",
                            "        vertical-align: top;\n",
                            "    }\n",
                            "\n",
                            "    .dataframe thead th {\n",
                            "        text-align: right;\n",
                            "    }\n",
                            "</style>\n",
                            "<table border=\"1\" class=\"dataframe\">\n",
                            "  <thead>\n",
                            "    <tr style=\"text-align: right;\">\n",
                            "      <th></th>\n",
                            "      <th>1</th>\n",
                            "      <th>3</th>\n",
                            "      <th>5</th>\n",
                            "      <th>7</th>\n",
                            "      <th>9</th>\n",
                            "    </tr>\n",
                            "  </thead>\n",
                            "  <tbody>\n",
                            "    <tr>\n",
                            "      <th>unlock_date</th>\n",
                            "      <td>2022-01-01</td>\n",
                            "      <td>2022-01-01</td>\n",
                            "      <td>2022-01-01</td>\n",
                            "      <td>2022-01-01</td>\n",
                            "      <td>2022-01-01</td>\n",
                            "    </tr>\n",
                            "    <tr>\n",
                            "      <th>idDriver</th>\n",
                            "      <td>489978239</td>\n",
                            "      <td>06023769T</td>\n",
                            "      <td>50856526F</td>\n",
                            "      <td>79006741Q</td>\n",
                            "      <td>76959007H</td>\n",
                            "    </tr>\n",
                            "    <tr>\n",
                            "      <th>idBike</th>\n",
                            "      <td>1718</td>\n",
                            "      <td>7340</td>\n",
                            "      <td>3861</td>\n",
                            "      <td>7657</td>\n",
                            "      <td>6653</td>\n",
                            "    </tr>\n",
                            "    <tr>\n",
                            "      <th>fleet</th>\n",
                            "      <td>1</td>\n",
                            "      <td>1</td>\n",
                            "      <td>1</td>\n",
                            "      <td>1</td>\n",
                            "      <td>1</td>\n",
                            "    </tr>\n",
                            "    <tr>\n",
                            "      <th>trip_minutes</th>\n",
                            "      <td>16.28</td>\n",
                            "      <td>7.1</td>\n",
                            "      <td>0.48</td>\n",
                            "      <td>6.62</td>\n",
                            "      <td>8.07</td>\n",
                            "    </tr>\n",
                            "    <tr>\n",
                            "      <th>address_unlock</th>\n",
                            "      <td>NaN</td>\n",
                            "      <td>NaN</td>\n",
                            "      <td>NaN</td>\n",
                            "      <td>NaN</td>\n",
                            "      <td>NaN</td>\n",
                            "    </tr>\n",
                            "    <tr>\n",
                            "      <th>unlock_hour</th>\n",
                            "      <td>00:02:20</td>\n",
                            "      <td>00:07:53</td>\n",
                            "      <td>00:09:21</td>\n",
                            "      <td>00:09:52</td>\n",
                            "      <td>00:09:57</td>\n",
                            "    </tr>\n",
                            "    <tr>\n",
                            "      <th>locktype</th>\n",
                            "      <td>STATION</td>\n",
                            "      <td>STATION</td>\n",
                            "      <td>STATION</td>\n",
                            "      <td>STATION</td>\n",
                            "      <td>STATION</td>\n",
                            "    </tr>\n",
                            "    <tr>\n",
                            "      <th>unlocktype</th>\n",
                            "      <td>STATION</td>\n",
                            "      <td>STATION</td>\n",
                            "      <td>STATION</td>\n",
                            "      <td>STATION</td>\n",
                            "      <td>STATION</td>\n",
                            "    </tr>\n",
                            "    <tr>\n",
                            "      <th>address_lock</th>\n",
                            "      <td>NaN</td>\n",
                            "      <td>NaN</td>\n",
                            "      <td>NaN</td>\n",
                            "      <td>NaN</td>\n",
                            "      <td>NaN</td>\n",
                            "    </tr>\n",
                            "    <tr>\n",
                            "      <th>station_unlock</th>\n",
                            "      <td>200</td>\n",
                            "      <td>69</td>\n",
                            "      <td>73</td>\n",
                            "      <td>192</td>\n",
                            "      <td>183</td>\n",
                            "    </tr>\n",
                            "    <tr>\n",
                            "      <th>dock_unlock</th>\n",
                            "      <td>3</td>\n",
                            "      <td>5</td>\n",
                            "      <td>21</td>\n",
                            "      <td>22</td>\n",
                            "      <td>3</td>\n",
                            "    </tr>\n",
                            "    <tr>\n",
                            "      <th>unlock_station_name</th>\n",
                            "      <td>Avenida de los Toreros</td>\n",
                            "      <td>Antonio Maura</td>\n",
                            "      <td>Puerta del Ángel Caído</td>\n",
                            "      <td>Marqués de Zafra</td>\n",
                            "      <td>Jaime el Conquistador</td>\n",
                            "    </tr>\n",
                            "    <tr>\n",
                            "      <th>station_lock</th>\n",
                            "      <td>64</td>\n",
                            "      <td>169</td>\n",
                            "      <td>73</td>\n",
                            "      <td>190</td>\n",
                            "      <td>47</td>\n",
                            "    </tr>\n",
                            "    <tr>\n",
                            "      <th>dock_lock</th>\n",
                            "      <td>4</td>\n",
                            "      <td>17</td>\n",
                            "      <td>21</td>\n",
                            "      <td>17</td>\n",
                            "      <td>24</td>\n",
                            "    </tr>\n",
                            "    <tr>\n",
                            "      <th>lock_station_name</th>\n",
                            "      <td>Plaza de la Independencia</td>\n",
                            "      <td>Manuel Silvela</td>\n",
                            "      <td>Puerta del Ángel Caído</td>\n",
                            "      <td>Parque Roma</td>\n",
                            "      <td>Jesús y María</td>\n",
                            "    </tr>\n",
                            "    <tr>\n",
                            "      <th>latitude_unlock</th>\n",
                            "      <td>40.431861</td>\n",
                            "      <td>40.416683</td>\n",
                            "      <td>40.409808</td>\n",
                            "      <td>40.426</td>\n",
                            "      <td>40.396222</td>\n",
                            "    </tr>\n",
                            "    <tr>\n",
                            "      <th>longitude_unlock</th>\n",
                            "      <td>-3.671417</td>\n",
                            "      <td>-3.689419</td>\n",
                            "      <td>-3.688822</td>\n",
                            "      <td>-3.665306</td>\n",
                            "      <td>-3.698306</td>\n",
                            "    </tr>\n",
                            "    <tr>\n",
                            "      <th>latitude_lock</th>\n",
                            "      <td>40.419752</td>\n",
                            "      <td>40.430952</td>\n",
                            "      <td>40.409808</td>\n",
                            "      <td>40.418667</td>\n",
                            "      <td>40.410156</td>\n",
                            "    </tr>\n",
                            "    <tr>\n",
                            "      <th>longitude_lock</th>\n",
                            "      <td>-3.688398</td>\n",
                            "      <td>-3.699346</td>\n",
                            "      <td>-3.688822</td>\n",
                            "      <td>-3.665778</td>\n",
                            "      <td>-3.702502</td>\n",
                            "    </tr>\n",
                            "    <tr>\n",
                            "      <th>lock_date</th>\n",
                            "      <td>2022-01-01</td>\n",
                            "      <td>2022-01-01</td>\n",
                            "      <td>2022-01-01</td>\n",
                            "      <td>2022-01-01</td>\n",
                            "      <td>2022-01-01</td>\n",
                            "    </tr>\n",
                            "    <tr>\n",
                            "      <th>lock_hour</th>\n",
                            "      <td>00:18:37</td>\n",
                            "      <td>00:14:59</td>\n",
                            "      <td>00:09:50</td>\n",
                            "      <td>00:16:29</td>\n",
                            "      <td>00:18:01</td>\n",
                            "    </tr>\n",
                            "  </tbody>\n",
                            "</table>\n",
                            "</div>"
                        ],
                        "text/plain": [
                            "                                             1               3  \\\n",
                            "unlock_date                         2022-01-01      2022-01-01   \n",
                            "idDriver                             489978239       06023769T   \n",
                            "idBike                                    1718            7340   \n",
                            "fleet                                        1               1   \n",
                            "trip_minutes                             16.28             7.1   \n",
                            "address_unlock                             NaN             NaN   \n",
                            "unlock_hour                           00:02:20        00:07:53   \n",
                            "locktype                               STATION         STATION   \n",
                            "unlocktype                             STATION         STATION   \n",
                            "address_lock                               NaN             NaN   \n",
                            "station_unlock                             200              69   \n",
                            "dock_unlock                                  3               5   \n",
                            "unlock_station_name     Avenida de los Toreros   Antonio Maura   \n",
                            "station_lock                                64             169   \n",
                            "dock_lock                                    4              17   \n",
                            "lock_station_name    Plaza de la Independencia  Manuel Silvela   \n",
                            "latitude_unlock                      40.431861       40.416683   \n",
                            "longitude_unlock                     -3.671417       -3.689419   \n",
                            "latitude_lock                        40.419752       40.430952   \n",
                            "longitude_lock                       -3.688398       -3.699346   \n",
                            "lock_date                           2022-01-01      2022-01-01   \n",
                            "lock_hour                             00:18:37        00:14:59   \n",
                            "\n",
                            "                                          5                 7  \\\n",
                            "unlock_date                      2022-01-01        2022-01-01   \n",
                            "idDriver                          50856526F         79006741Q   \n",
                            "idBike                                 3861              7657   \n",
                            "fleet                                     1                 1   \n",
                            "trip_minutes                           0.48              6.62   \n",
                            "address_unlock                          NaN               NaN   \n",
                            "unlock_hour                        00:09:21          00:09:52   \n",
                            "locktype                            STATION           STATION   \n",
                            "unlocktype                          STATION           STATION   \n",
                            "address_lock                            NaN               NaN   \n",
                            "station_unlock                           73               192   \n",
                            "dock_unlock                              21                22   \n",
                            "unlock_station_name  Puerta del Ángel Caído  Marqués de Zafra   \n",
                            "station_lock                             73               190   \n",
                            "dock_lock                                21                17   \n",
                            "lock_station_name    Puerta del Ángel Caído       Parque Roma   \n",
                            "latitude_unlock                   40.409808            40.426   \n",
                            "longitude_unlock                  -3.688822         -3.665306   \n",
                            "latitude_lock                     40.409808         40.418667   \n",
                            "longitude_lock                    -3.688822         -3.665778   \n",
                            "lock_date                        2022-01-01        2022-01-01   \n",
                            "lock_hour                          00:09:50          00:16:29   \n",
                            "\n",
                            "                                         9  \n",
                            "unlock_date                     2022-01-01  \n",
                            "idDriver                         76959007H  \n",
                            "idBike                                6653  \n",
                            "fleet                                    1  \n",
                            "trip_minutes                          8.07  \n",
                            "address_unlock                         NaN  \n",
                            "unlock_hour                       00:09:57  \n",
                            "locktype                           STATION  \n",
                            "unlocktype                         STATION  \n",
                            "address_lock                           NaN  \n",
                            "station_unlock                         183  \n",
                            "dock_unlock                              3  \n",
                            "unlock_station_name  Jaime el Conquistador  \n",
                            "station_lock                            47  \n",
                            "dock_lock                               24  \n",
                            "lock_station_name            Jesús y María  \n",
                            "latitude_unlock                  40.396222  \n",
                            "longitude_unlock                 -3.698306  \n",
                            "latitude_lock                    40.410156  \n",
                            "longitude_lock                   -3.702502  \n",
                            "lock_date                       2022-01-01  \n",
                            "lock_hour                         00:18:01  "
                        ]
                    },
                    "execution_count": 168,
                    "metadata": {},
                    "output_type": "execute_result"
                }
            ],
            "source": [
                "trips_data.head().T"
            ]
        },
        {
            "cell_type": "code",
            "execution_count": 169,
            "metadata": {},
            "outputs": [],
            "source": [
                "trips_data = trips_data.reindex(columns=['idDriver', 'idBike', 'trip_minutes', 'fleet', 'unlock_date', 'unlock_hour', 'latitude_unlock', 'longitude_unlock', 'address_unlock', 'unlocktype', 'station_unlock', 'dock_unlock', 'unlock_station_name','lock_date', 'lock_hour', 'latitude_lock', 'longitude_lock', 'address_lock', 'locktype', 'station_lock', 'dock_lock', 'lock_station_name'])"
            ]
        },
        {
            "cell_type": "code",
            "execution_count": 170,
            "metadata": {},
            "outputs": [
                {
                    "name": "stdout",
                    "output_type": "stream",
                    "text": [
                        "<class 'pandas.core.frame.DataFrame'>\n",
                        "Index: 4144134 entries, 1 to 8288267\n",
                        "Data columns (total 22 columns):\n",
                        " #   Column               Dtype  \n",
                        "---  ------               -----  \n",
                        " 0   idDriver             object \n",
                        " 1   idBike               int32  \n",
                        " 2   trip_minutes         float64\n",
                        " 3   fleet                int32  \n",
                        " 4   unlock_date          object \n",
                        " 5   unlock_hour          object \n",
                        " 6   latitude_unlock      float64\n",
                        " 7   longitude_unlock     float64\n",
                        " 8   address_unlock       object \n",
                        " 9   unlocktype           object \n",
                        " 10  station_unlock       int32  \n",
                        " 11  dock_unlock          int32  \n",
                        " 12  unlock_station_name  object \n",
                        " 13  lock_date            object \n",
                        " 14  lock_hour            object \n",
                        " 15  latitude_lock        object \n",
                        " 16  longitude_lock       object \n",
                        " 17  address_lock         object \n",
                        " 18  locktype             object \n",
                        " 19  station_lock         int32  \n",
                        " 20  dock_lock            int32  \n",
                        " 21  lock_station_name    object \n",
                        "dtypes: float64(3), int32(6), object(13)\n",
                        "memory usage: 632.3+ MB\n"
                    ]
                }
            ],
            "source": [
                "trips_data.info()"
            ]
        },
        {
            "cell_type": "markdown",
            "metadata": {},
            "source": [
                "***Save the clean file***"
            ]
        },
        {
            "cell_type": "code",
            "execution_count": 171,
            "metadata": {},
            "outputs": [],
            "source": [
                "trips_data.to_csv('../data/processed/clean_data_trips.csv', index=False)"
            ]
        },
        {
            "cell_type": "markdown",
            "metadata": {},
            "source": [
                "### JSON FILE ###"
            ]
        },
        {
            "cell_type": "code",
            "execution_count": 172,
            "metadata": {},
            "outputs": [],
            "source": [
                "data_stations = pd.read_json('../data/raw/json/combined_json.json', lines=True)"
            ]
        },
        {
            "cell_type": "code",
            "execution_count": 173,
            "metadata": {},
            "outputs": [],
            "source": [
                "stations_df = pd.json_normalize(data_stations['stations'].explode())"
            ]
        },
        {
            "cell_type": "code",
            "execution_count": 176,
            "metadata": {},
            "outputs": [],
            "source": [
                "replicas = 264\n",
                "data_stations_rep = pd.concat([data_stations]*replicas)"
            ]
        },
        {
            "cell_type": "code",
            "execution_count": 192,
            "metadata": {},
            "outputs": [],
            "source": [
                "data_stations_rep = data_stations_rep.reset_index(drop=True)"
            ]
        },
        {
            "cell_type": "code",
            "execution_count": 193,
            "metadata": {},
            "outputs": [],
            "source": [
                "data_stations_final = pd.concat([data_stations_rep, stations_df], axis=1, join='outer')"
            ]
        },
        {
            "cell_type": "code",
            "execution_count": 197,
            "metadata": {},
            "outputs": [
                {
                    "data": {
                        "text/html": [
                            "<div>\n",
                            "<style scoped>\n",
                            "    .dataframe tbody tr th:only-of-type {\n",
                            "        vertical-align: middle;\n",
                            "    }\n",
                            "\n",
                            "    .dataframe tbody tr th {\n",
                            "        vertical-align: top;\n",
                            "    }\n",
                            "\n",
                            "    .dataframe thead th {\n",
                            "        text-align: right;\n",
                            "    }\n",
                            "</style>\n",
                            "<table border=\"1\" class=\"dataframe\">\n",
                            "  <thead>\n",
                            "    <tr style=\"text-align: right;\">\n",
                            "      <th></th>\n",
                            "      <th>_id</th>\n",
                            "      <th>activate</th>\n",
                            "      <th>name</th>\n",
                            "      <th>reservations_count</th>\n",
                            "      <th>light</th>\n",
                            "      <th>total_bases</th>\n",
                            "      <th>free_bases</th>\n",
                            "      <th>number</th>\n",
                            "      <th>longitude</th>\n",
                            "      <th>no_available</th>\n",
                            "      <th>address</th>\n",
                            "      <th>latitude</th>\n",
                            "      <th>dock_bikes</th>\n",
                            "      <th>id</th>\n",
                            "    </tr>\n",
                            "  </thead>\n",
                            "  <tbody>\n",
                            "    <tr>\n",
                            "      <th>0</th>\n",
                            "      <td>2022-01-01T00:13:20.603583</td>\n",
                            "      <td>1</td>\n",
                            "      <td>Puerta del Sol A</td>\n",
                            "      <td>0</td>\n",
                            "      <td>3</td>\n",
                            "      <td>30</td>\n",
                            "      <td>0</td>\n",
                            "      <td>1a</td>\n",
                            "      <td>-3.7018341</td>\n",
                            "      <td>1</td>\n",
                            "      <td>Puerta del Sol nº 1</td>\n",
                            "      <td>40.4172137</td>\n",
                            "      <td>0</td>\n",
                            "      <td>1</td>\n",
                            "    </tr>\n",
                            "    <tr>\n",
                            "      <th>1</th>\n",
                            "      <td>2022-01-01T01:13:21.911079</td>\n",
                            "      <td>1</td>\n",
                            "      <td>Puerta del Sol B</td>\n",
                            "      <td>0</td>\n",
                            "      <td>3</td>\n",
                            "      <td>30</td>\n",
                            "      <td>0</td>\n",
                            "      <td>1b</td>\n",
                            "      <td>-3.701602938060457</td>\n",
                            "      <td>1</td>\n",
                            "      <td>Puerta del Sol nº 1</td>\n",
                            "      <td>40.41731271011562</td>\n",
                            "      <td>0</td>\n",
                            "      <td>2</td>\n",
                            "    </tr>\n",
                            "    <tr>\n",
                            "      <th>2</th>\n",
                            "      <td>2022-01-01T02:13:23.718951</td>\n",
                            "      <td>1</td>\n",
                            "      <td>Miguel Moya</td>\n",
                            "      <td>0</td>\n",
                            "      <td>0</td>\n",
                            "      <td>24</td>\n",
                            "      <td>16</td>\n",
                            "      <td>2</td>\n",
                            "      <td>-3.7058415</td>\n",
                            "      <td>0</td>\n",
                            "      <td>Calle Miguel Moya nº 1</td>\n",
                            "      <td>40.4205886</td>\n",
                            "      <td>7</td>\n",
                            "      <td>3</td>\n",
                            "    </tr>\n",
                            "    <tr>\n",
                            "      <th>3</th>\n",
                            "      <td>2022-01-01T03:13:23.902654</td>\n",
                            "      <td>1</td>\n",
                            "      <td>Plaza Conde Suchil</td>\n",
                            "      <td>0</td>\n",
                            "      <td>1</td>\n",
                            "      <td>18</td>\n",
                            "      <td>1</td>\n",
                            "      <td>3</td>\n",
                            "      <td>-3.7069171</td>\n",
                            "      <td>0</td>\n",
                            "      <td>Plaza del Conde del Valle de Súchil nº 3</td>\n",
                            "      <td>40.4302937</td>\n",
                            "      <td>14</td>\n",
                            "      <td>4</td>\n",
                            "    </tr>\n",
                            "    <tr>\n",
                            "      <th>4</th>\n",
                            "      <td>2022-01-01T04:13:26.826536</td>\n",
                            "      <td>1</td>\n",
                            "      <td>Malasaña</td>\n",
                            "      <td>0</td>\n",
                            "      <td>1</td>\n",
                            "      <td>24</td>\n",
                            "      <td>2</td>\n",
                            "      <td>4</td>\n",
                            "      <td>-3.7025875</td>\n",
                            "      <td>0</td>\n",
                            "      <td>Calle Manuela Malasaña nº 5</td>\n",
                            "      <td>40.4285524</td>\n",
                            "      <td>17</td>\n",
                            "      <td>5</td>\n",
                            "    </tr>\n",
                            "  </tbody>\n",
                            "</table>\n",
                            "</div>"
                        ],
                        "text/plain": [
                            "                          _id  activate                name  \\\n",
                            "0  2022-01-01T00:13:20.603583         1    Puerta del Sol A   \n",
                            "1  2022-01-01T01:13:21.911079         1    Puerta del Sol B   \n",
                            "2  2022-01-01T02:13:23.718951         1         Miguel Moya   \n",
                            "3  2022-01-01T03:13:23.902654         1  Plaza Conde Suchil   \n",
                            "4  2022-01-01T04:13:26.826536         1            Malasaña   \n",
                            "\n",
                            "   reservations_count  light  total_bases  free_bases number  \\\n",
                            "0                   0      3           30           0     1a   \n",
                            "1                   0      3           30           0     1b   \n",
                            "2                   0      0           24          16      2   \n",
                            "3                   0      1           18           1      3   \n",
                            "4                   0      1           24           2      4   \n",
                            "\n",
                            "            longitude  no_available                                   address  \\\n",
                            "0          -3.7018341             1                       Puerta del Sol nº 1   \n",
                            "1  -3.701602938060457             1                       Puerta del Sol nº 1   \n",
                            "2          -3.7058415             0                    Calle Miguel Moya nº 1   \n",
                            "3          -3.7069171             0  Plaza del Conde del Valle de Súchil nº 3   \n",
                            "4          -3.7025875             0               Calle Manuela Malasaña nº 5   \n",
                            "\n",
                            "            latitude  dock_bikes  id  \n",
                            "0         40.4172137           0   1  \n",
                            "1  40.41731271011562           0   2  \n",
                            "2         40.4205886           7   3  \n",
                            "3         40.4302937          14   4  \n",
                            "4         40.4285524          17   5  "
                        ]
                    },
                    "execution_count": 197,
                    "metadata": {},
                    "output_type": "execute_result"
                }
            ],
            "source": [
                "data_stations_final.head()"
            ]
        },
        {
            "cell_type": "code",
            "execution_count": 206,
            "metadata": {},
            "outputs": [],
            "source": [
                "data_stations_final['_id'] = pd.to_datetime(data_stations_final['_id'])\n",
                "data_stations_final['date_station'] = data_stations_final['_id'].dt.date\n",
                "data_stations_final['hour_station'] = data_stations_final['_id'].dt.time"
            ]
        },
        {
            "cell_type": "code",
            "execution_count": 207,
            "metadata": {},
            "outputs": [
                {
                    "data": {
                        "text/html": [
                            "<div>\n",
                            "<style scoped>\n",
                            "    .dataframe tbody tr th:only-of-type {\n",
                            "        vertical-align: middle;\n",
                            "    }\n",
                            "\n",
                            "    .dataframe tbody tr th {\n",
                            "        vertical-align: top;\n",
                            "    }\n",
                            "\n",
                            "    .dataframe thead th {\n",
                            "        text-align: right;\n",
                            "    }\n",
                            "</style>\n",
                            "<table border=\"1\" class=\"dataframe\">\n",
                            "  <thead>\n",
                            "    <tr style=\"text-align: right;\">\n",
                            "      <th></th>\n",
                            "      <th>_id</th>\n",
                            "      <th>activate</th>\n",
                            "      <th>name</th>\n",
                            "      <th>reservations_count</th>\n",
                            "      <th>light</th>\n",
                            "      <th>total_bases</th>\n",
                            "      <th>free_bases</th>\n",
                            "      <th>number</th>\n",
                            "      <th>longitude</th>\n",
                            "      <th>no_available</th>\n",
                            "      <th>address</th>\n",
                            "      <th>latitude</th>\n",
                            "      <th>dock_bikes</th>\n",
                            "      <th>id</th>\n",
                            "      <th>date_station</th>\n",
                            "      <th>hour_station</th>\n",
                            "    </tr>\n",
                            "  </thead>\n",
                            "  <tbody>\n",
                            "    <tr>\n",
                            "      <th>0</th>\n",
                            "      <td>2022-01-01 00:13:20.603583</td>\n",
                            "      <td>1</td>\n",
                            "      <td>Puerta del Sol A</td>\n",
                            "      <td>0</td>\n",
                            "      <td>3</td>\n",
                            "      <td>30</td>\n",
                            "      <td>0</td>\n",
                            "      <td>1a</td>\n",
                            "      <td>-3.7018341</td>\n",
                            "      <td>1</td>\n",
                            "      <td>Puerta del Sol nº 1</td>\n",
                            "      <td>40.4172137</td>\n",
                            "      <td>0</td>\n",
                            "      <td>1</td>\n",
                            "      <td>2022-01-01</td>\n",
                            "      <td>00:13:20.603583</td>\n",
                            "    </tr>\n",
                            "    <tr>\n",
                            "      <th>1</th>\n",
                            "      <td>2022-01-01 01:13:21.911079</td>\n",
                            "      <td>1</td>\n",
                            "      <td>Puerta del Sol B</td>\n",
                            "      <td>0</td>\n",
                            "      <td>3</td>\n",
                            "      <td>30</td>\n",
                            "      <td>0</td>\n",
                            "      <td>1b</td>\n",
                            "      <td>-3.701602938060457</td>\n",
                            "      <td>1</td>\n",
                            "      <td>Puerta del Sol nº 1</td>\n",
                            "      <td>40.41731271011562</td>\n",
                            "      <td>0</td>\n",
                            "      <td>2</td>\n",
                            "      <td>2022-01-01</td>\n",
                            "      <td>01:13:21.911079</td>\n",
                            "    </tr>\n",
                            "    <tr>\n",
                            "      <th>2</th>\n",
                            "      <td>2022-01-01 02:13:23.718951</td>\n",
                            "      <td>1</td>\n",
                            "      <td>Miguel Moya</td>\n",
                            "      <td>0</td>\n",
                            "      <td>0</td>\n",
                            "      <td>24</td>\n",
                            "      <td>16</td>\n",
                            "      <td>2</td>\n",
                            "      <td>-3.7058415</td>\n",
                            "      <td>0</td>\n",
                            "      <td>Calle Miguel Moya nº 1</td>\n",
                            "      <td>40.4205886</td>\n",
                            "      <td>7</td>\n",
                            "      <td>3</td>\n",
                            "      <td>2022-01-01</td>\n",
                            "      <td>02:13:23.718951</td>\n",
                            "    </tr>\n",
                            "    <tr>\n",
                            "      <th>3</th>\n",
                            "      <td>2022-01-01 03:13:23.902654</td>\n",
                            "      <td>1</td>\n",
                            "      <td>Plaza Conde Suchil</td>\n",
                            "      <td>0</td>\n",
                            "      <td>1</td>\n",
                            "      <td>18</td>\n",
                            "      <td>1</td>\n",
                            "      <td>3</td>\n",
                            "      <td>-3.7069171</td>\n",
                            "      <td>0</td>\n",
                            "      <td>Plaza del Conde del Valle de Súchil nº 3</td>\n",
                            "      <td>40.4302937</td>\n",
                            "      <td>14</td>\n",
                            "      <td>4</td>\n",
                            "      <td>2022-01-01</td>\n",
                            "      <td>03:13:23.902654</td>\n",
                            "    </tr>\n",
                            "    <tr>\n",
                            "      <th>4</th>\n",
                            "      <td>2022-01-01 04:13:26.826536</td>\n",
                            "      <td>1</td>\n",
                            "      <td>Malasaña</td>\n",
                            "      <td>0</td>\n",
                            "      <td>1</td>\n",
                            "      <td>24</td>\n",
                            "      <td>2</td>\n",
                            "      <td>4</td>\n",
                            "      <td>-3.7025875</td>\n",
                            "      <td>0</td>\n",
                            "      <td>Calle Manuela Malasaña nº 5</td>\n",
                            "      <td>40.4285524</td>\n",
                            "      <td>17</td>\n",
                            "      <td>5</td>\n",
                            "      <td>2022-01-01</td>\n",
                            "      <td>04:13:26.826536</td>\n",
                            "    </tr>\n",
                            "  </tbody>\n",
                            "</table>\n",
                            "</div>"
                        ],
                        "text/plain": [
                            "                         _id  activate                name  \\\n",
                            "0 2022-01-01 00:13:20.603583         1    Puerta del Sol A   \n",
                            "1 2022-01-01 01:13:21.911079         1    Puerta del Sol B   \n",
                            "2 2022-01-01 02:13:23.718951         1         Miguel Moya   \n",
                            "3 2022-01-01 03:13:23.902654         1  Plaza Conde Suchil   \n",
                            "4 2022-01-01 04:13:26.826536         1            Malasaña   \n",
                            "\n",
                            "   reservations_count  light  total_bases  free_bases number  \\\n",
                            "0                   0      3           30           0     1a   \n",
                            "1                   0      3           30           0     1b   \n",
                            "2                   0      0           24          16      2   \n",
                            "3                   0      1           18           1      3   \n",
                            "4                   0      1           24           2      4   \n",
                            "\n",
                            "            longitude  no_available                                   address  \\\n",
                            "0          -3.7018341             1                       Puerta del Sol nº 1   \n",
                            "1  -3.701602938060457             1                       Puerta del Sol nº 1   \n",
                            "2          -3.7058415             0                    Calle Miguel Moya nº 1   \n",
                            "3          -3.7069171             0  Plaza del Conde del Valle de Súchil nº 3   \n",
                            "4          -3.7025875             0               Calle Manuela Malasaña nº 5   \n",
                            "\n",
                            "            latitude  dock_bikes  id date_station     hour_station  \n",
                            "0         40.4172137           0   1   2022-01-01  00:13:20.603583  \n",
                            "1  40.41731271011562           0   2   2022-01-01  01:13:21.911079  \n",
                            "2         40.4205886           7   3   2022-01-01  02:13:23.718951  \n",
                            "3         40.4302937          14   4   2022-01-01  03:13:23.902654  \n",
                            "4         40.4285524          17   5   2022-01-01  04:13:26.826536  "
                        ]
                    },
                    "execution_count": 207,
                    "metadata": {},
                    "output_type": "execute_result"
                }
            ],
            "source": [
                "data_stations_final.head()"
            ]
        },
        {
            "cell_type": "code",
            "execution_count": 208,
            "metadata": {},
            "outputs": [
                {
                    "data": {
                        "text/html": [
                            "<div>\n",
                            "<style scoped>\n",
                            "    .dataframe tbody tr th:only-of-type {\n",
                            "        vertical-align: middle;\n",
                            "    }\n",
                            "\n",
                            "    .dataframe tbody tr th {\n",
                            "        vertical-align: top;\n",
                            "    }\n",
                            "\n",
                            "    .dataframe thead th {\n",
                            "        text-align: right;\n",
                            "    }\n",
                            "</style>\n",
                            "<table border=\"1\" class=\"dataframe\">\n",
                            "  <thead>\n",
                            "    <tr style=\"text-align: right;\">\n",
                            "      <th></th>\n",
                            "      <th>idDriver</th>\n",
                            "      <th>idBike</th>\n",
                            "      <th>trip_minutes</th>\n",
                            "      <th>fleet</th>\n",
                            "      <th>unlock_date</th>\n",
                            "      <th>unlock_hour</th>\n",
                            "      <th>latitude_unlock</th>\n",
                            "      <th>longitude_unlock</th>\n",
                            "      <th>address_unlock</th>\n",
                            "      <th>unlocktype</th>\n",
                            "      <th>station_unlock</th>\n",
                            "      <th>dock_unlock</th>\n",
                            "      <th>unlock_station_name</th>\n",
                            "      <th>lock_date</th>\n",
                            "      <th>lock_hour</th>\n",
                            "      <th>latitude_lock</th>\n",
                            "      <th>longitude_lock</th>\n",
                            "      <th>address_lock</th>\n",
                            "      <th>locktype</th>\n",
                            "      <th>station_lock</th>\n",
                            "      <th>dock_lock</th>\n",
                            "      <th>lock_station_name</th>\n",
                            "    </tr>\n",
                            "  </thead>\n",
                            "  <tbody>\n",
                            "    <tr>\n",
                            "      <th>1</th>\n",
                            "      <td>489978239</td>\n",
                            "      <td>1718</td>\n",
                            "      <td>16.28</td>\n",
                            "      <td>1</td>\n",
                            "      <td>2022-01-01</td>\n",
                            "      <td>00:02:20</td>\n",
                            "      <td>40.431861</td>\n",
                            "      <td>-3.671417</td>\n",
                            "      <td>NaN</td>\n",
                            "      <td>STATION</td>\n",
                            "      <td>200</td>\n",
                            "      <td>3</td>\n",
                            "      <td>Avenida de los Toreros</td>\n",
                            "      <td>2022-01-01</td>\n",
                            "      <td>00:18:37</td>\n",
                            "      <td>40.419752</td>\n",
                            "      <td>-3.688398</td>\n",
                            "      <td>NaN</td>\n",
                            "      <td>STATION</td>\n",
                            "      <td>64</td>\n",
                            "      <td>4</td>\n",
                            "      <td>Plaza de la Independencia</td>\n",
                            "    </tr>\n",
                            "    <tr>\n",
                            "      <th>3</th>\n",
                            "      <td>06023769T</td>\n",
                            "      <td>7340</td>\n",
                            "      <td>7.10</td>\n",
                            "      <td>1</td>\n",
                            "      <td>2022-01-01</td>\n",
                            "      <td>00:07:53</td>\n",
                            "      <td>40.416683</td>\n",
                            "      <td>-3.689419</td>\n",
                            "      <td>NaN</td>\n",
                            "      <td>STATION</td>\n",
                            "      <td>69</td>\n",
                            "      <td>5</td>\n",
                            "      <td>Antonio Maura</td>\n",
                            "      <td>2022-01-01</td>\n",
                            "      <td>00:14:59</td>\n",
                            "      <td>40.430952</td>\n",
                            "      <td>-3.699346</td>\n",
                            "      <td>NaN</td>\n",
                            "      <td>STATION</td>\n",
                            "      <td>169</td>\n",
                            "      <td>17</td>\n",
                            "      <td>Manuel Silvela</td>\n",
                            "    </tr>\n",
                            "    <tr>\n",
                            "      <th>5</th>\n",
                            "      <td>50856526F</td>\n",
                            "      <td>3861</td>\n",
                            "      <td>0.48</td>\n",
                            "      <td>1</td>\n",
                            "      <td>2022-01-01</td>\n",
                            "      <td>00:09:21</td>\n",
                            "      <td>40.409808</td>\n",
                            "      <td>-3.688822</td>\n",
                            "      <td>NaN</td>\n",
                            "      <td>STATION</td>\n",
                            "      <td>73</td>\n",
                            "      <td>21</td>\n",
                            "      <td>Puerta del Ángel Caído</td>\n",
                            "      <td>2022-01-01</td>\n",
                            "      <td>00:09:50</td>\n",
                            "      <td>40.409808</td>\n",
                            "      <td>-3.688822</td>\n",
                            "      <td>NaN</td>\n",
                            "      <td>STATION</td>\n",
                            "      <td>73</td>\n",
                            "      <td>21</td>\n",
                            "      <td>Puerta del Ángel Caído</td>\n",
                            "    </tr>\n",
                            "    <tr>\n",
                            "      <th>7</th>\n",
                            "      <td>79006741Q</td>\n",
                            "      <td>7657</td>\n",
                            "      <td>6.62</td>\n",
                            "      <td>1</td>\n",
                            "      <td>2022-01-01</td>\n",
                            "      <td>00:09:52</td>\n",
                            "      <td>40.426000</td>\n",
                            "      <td>-3.665306</td>\n",
                            "      <td>NaN</td>\n",
                            "      <td>STATION</td>\n",
                            "      <td>192</td>\n",
                            "      <td>22</td>\n",
                            "      <td>Marqués de Zafra</td>\n",
                            "      <td>2022-01-01</td>\n",
                            "      <td>00:16:29</td>\n",
                            "      <td>40.418667</td>\n",
                            "      <td>-3.665778</td>\n",
                            "      <td>NaN</td>\n",
                            "      <td>STATION</td>\n",
                            "      <td>190</td>\n",
                            "      <td>17</td>\n",
                            "      <td>Parque Roma</td>\n",
                            "    </tr>\n",
                            "    <tr>\n",
                            "      <th>9</th>\n",
                            "      <td>76959007H</td>\n",
                            "      <td>6653</td>\n",
                            "      <td>8.07</td>\n",
                            "      <td>1</td>\n",
                            "      <td>2022-01-01</td>\n",
                            "      <td>00:09:57</td>\n",
                            "      <td>40.396222</td>\n",
                            "      <td>-3.698306</td>\n",
                            "      <td>NaN</td>\n",
                            "      <td>STATION</td>\n",
                            "      <td>183</td>\n",
                            "      <td>3</td>\n",
                            "      <td>Jaime el Conquistador</td>\n",
                            "      <td>2022-01-01</td>\n",
                            "      <td>00:18:01</td>\n",
                            "      <td>40.410156</td>\n",
                            "      <td>-3.702502</td>\n",
                            "      <td>NaN</td>\n",
                            "      <td>STATION</td>\n",
                            "      <td>47</td>\n",
                            "      <td>24</td>\n",
                            "      <td>Jesús y María</td>\n",
                            "    </tr>\n",
                            "  </tbody>\n",
                            "</table>\n",
                            "</div>"
                        ],
                        "text/plain": [
                            "    idDriver  idBike  trip_minutes  fleet unlock_date unlock_hour  \\\n",
                            "1  489978239    1718         16.28      1  2022-01-01    00:02:20   \n",
                            "3  06023769T    7340          7.10      1  2022-01-01    00:07:53   \n",
                            "5  50856526F    3861          0.48      1  2022-01-01    00:09:21   \n",
                            "7  79006741Q    7657          6.62      1  2022-01-01    00:09:52   \n",
                            "9  76959007H    6653          8.07      1  2022-01-01    00:09:57   \n",
                            "\n",
                            "   latitude_unlock  longitude_unlock address_unlock unlocktype  \\\n",
                            "1        40.431861         -3.671417            NaN    STATION   \n",
                            "3        40.416683         -3.689419            NaN    STATION   \n",
                            "5        40.409808         -3.688822            NaN    STATION   \n",
                            "7        40.426000         -3.665306            NaN    STATION   \n",
                            "9        40.396222         -3.698306            NaN    STATION   \n",
                            "\n",
                            "   station_unlock  dock_unlock     unlock_station_name   lock_date lock_hour  \\\n",
                            "1             200            3  Avenida de los Toreros  2022-01-01  00:18:37   \n",
                            "3              69            5           Antonio Maura  2022-01-01  00:14:59   \n",
                            "5              73           21  Puerta del Ángel Caído  2022-01-01  00:09:50   \n",
                            "7             192           22        Marqués de Zafra  2022-01-01  00:16:29   \n",
                            "9             183            3   Jaime el Conquistador  2022-01-01  00:18:01   \n",
                            "\n",
                            "  latitude_lock longitude_lock address_lock locktype  station_lock  dock_lock  \\\n",
                            "1     40.419752      -3.688398          NaN  STATION            64          4   \n",
                            "3     40.430952      -3.699346          NaN  STATION           169         17   \n",
                            "5     40.409808      -3.688822          NaN  STATION            73         21   \n",
                            "7     40.418667      -3.665778          NaN  STATION           190         17   \n",
                            "9     40.410156      -3.702502          NaN  STATION            47         24   \n",
                            "\n",
                            "           lock_station_name  \n",
                            "1  Plaza de la Independencia  \n",
                            "3             Manuel Silvela  \n",
                            "5     Puerta del Ángel Caído  \n",
                            "7                Parque Roma  \n",
                            "9              Jesús y María  "
                        ]
                    },
                    "execution_count": 208,
                    "metadata": {},
                    "output_type": "execute_result"
                }
            ],
            "source": [
                "trips_data.head()"
            ]
        }
    ],
    "metadata": {
        "kernelspec": {
            "display_name": "Python 3.8.13 64-bit ('3.8.13')",
            "language": "python",
            "name": "python3"
        },
        "language_info": {
            "codemirror_mode": {
                "name": "ipython",
                "version": 3
            },
            "file_extension": ".py",
            "mimetype": "text/x-python",
            "name": "python",
            "nbconvert_exporter": "python",
            "pygments_lexer": "ipython3",
            "version": "3.12.0"
        },
        "orig_nbformat": 4,
        "vscode": {
            "interpreter": {
                "hash": "110cc1dee26208153f2972f08a2ad52b6a56238dc66d48e87fb757ef2996db56"
            }
        }
    },
    "nbformat": 4,
    "nbformat_minor": 2
}
