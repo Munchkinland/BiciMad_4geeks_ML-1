{
    "cells": [
        {
            "cell_type": "markdown",
            "metadata": {},
            "source": [
                "# Exploratory Data Analysis"
            ]
        },
        {
            "cell_type": "markdown",
            "metadata": {},
            "source": [
                "### Import libraries"
            ]
        },
        {
            "cell_type": "code",
            "execution_count": 75,
            "metadata": {},
            "outputs": [],
            "source": [
                "import pandas as pd\n",
                "import datetime\n",
                "import ast\n",
                "import warnings\n",
                "warnings.filterwarnings(\"ignore\")"
            ]
        },
        {
            "cell_type": "markdown",
            "metadata": {},
            "source": [
                "***Read data file***"
            ]
        },
        {
            "cell_type": "code",
            "execution_count": 36,
            "metadata": {},
            "outputs": [],
            "source": [
                "trips_data = pd.read_csv(\"../data/raw/csv/combined_csv.csv\", sep=\",\", low_memory=False)"
            ]
        },
        {
            "cell_type": "markdown",
            "metadata": {},
            "source": [
                "***Delete the null rows***"
            ]
        },
        {
            "cell_type": "code",
            "execution_count": 37,
            "metadata": {},
            "outputs": [],
            "source": [
                "trips_data.dropna(how=\"all\", inplace=True)"
            ]
        },
        {
            "cell_type": "code",
            "execution_count": 51,
            "metadata": {},
            "outputs": [
                {
                    "data": {
                        "text/html": [
                            "<div>\n",
                            "<style scoped>\n",
                            "    .dataframe tbody tr th:only-of-type {\n",
                            "        vertical-align: middle;\n",
                            "    }\n",
                            "\n",
                            "    .dataframe tbody tr th {\n",
                            "        vertical-align: top;\n",
                            "    }\n",
                            "\n",
                            "    .dataframe thead th {\n",
                            "        text-align: right;\n",
                            "    }\n",
                            "</style>\n",
                            "<table border=\"1\" class=\"dataframe\">\n",
                            "  <thead>\n",
                            "    <tr style=\"text-align: right;\">\n",
                            "      <th></th>\n",
                            "      <th>fecha</th>\n",
                            "      <th>idTrip</th>\n",
                            "      <th>idBike</th>\n",
                            "      <th>fleet</th>\n",
                            "      <th>trip_minutes</th>\n",
                            "      <th>geolocation_unlock</th>\n",
                            "      <th>address_unlock</th>\n",
                            "      <th>unlock_date</th>\n",
                            "      <th>locktype</th>\n",
                            "      <th>unlocktype</th>\n",
                            "      <th>geolocation_lock</th>\n",
                            "      <th>address_lock</th>\n",
                            "      <th>lock_date</th>\n",
                            "      <th>station_unlock</th>\n",
                            "      <th>dock_unlock</th>\n",
                            "      <th>unlock_station_name</th>\n",
                            "      <th>station_lock</th>\n",
                            "      <th>dock_lock</th>\n",
                            "      <th>lock_station_name</th>\n",
                            "    </tr>\n",
                            "  </thead>\n",
                            "  <tbody>\n",
                            "    <tr>\n",
                            "      <th>1</th>\n",
                            "      <td>2022-01-01</td>\n",
                            "      <td>489978239_1718_2022-01-01T00:18:37</td>\n",
                            "      <td>1718.0</td>\n",
                            "      <td>1.0</td>\n",
                            "      <td>16.28</td>\n",
                            "      <td>{'type': 'Point', 'coordinates': [-3.6714166, ...</td>\n",
                            "      <td>NaN</td>\n",
                            "      <td>2022-01-01T00:02:20</td>\n",
                            "      <td>STATION</td>\n",
                            "      <td>STATION</td>\n",
                            "      <td>{'type': 'Point', 'coordinates': [-3.688398, 4...</td>\n",
                            "      <td>NaN</td>\n",
                            "      <td>2022-01-01T00:18:37</td>\n",
                            "      <td>200.0</td>\n",
                            "      <td>3.0</td>\n",
                            "      <td>Avenida de los Toreros</td>\n",
                            "      <td>64.0</td>\n",
                            "      <td>4.0</td>\n",
                            "      <td>Plaza de la Independencia</td>\n",
                            "    </tr>\n",
                            "    <tr>\n",
                            "      <th>3</th>\n",
                            "      <td>2022-01-01</td>\n",
                            "      <td>06023769T_7340_2022-01-01T00:14:59</td>\n",
                            "      <td>7340.0</td>\n",
                            "      <td>1.0</td>\n",
                            "      <td>7.10</td>\n",
                            "      <td>{'type': 'Point', 'coordinates': [-3.6894193, ...</td>\n",
                            "      <td>NaN</td>\n",
                            "      <td>2022-01-01T00:07:53</td>\n",
                            "      <td>STATION</td>\n",
                            "      <td>STATION</td>\n",
                            "      <td>{'type': 'Point', 'coordinates': [-3.6993465, ...</td>\n",
                            "      <td>NaN</td>\n",
                            "      <td>2022-01-01T00:14:59</td>\n",
                            "      <td>69.0</td>\n",
                            "      <td>5.0</td>\n",
                            "      <td>Antonio Maura</td>\n",
                            "      <td>169.0</td>\n",
                            "      <td>17.0</td>\n",
                            "      <td>Manuel Silvela</td>\n",
                            "    </tr>\n",
                            "    <tr>\n",
                            "      <th>5</th>\n",
                            "      <td>2022-01-01</td>\n",
                            "      <td>50856526F_3861_2022-01-01T00:09:50</td>\n",
                            "      <td>3861.0</td>\n",
                            "      <td>1.0</td>\n",
                            "      <td>0.48</td>\n",
                            "      <td>{'type': 'Point', 'coordinates': [-3.688822, 4...</td>\n",
                            "      <td>NaN</td>\n",
                            "      <td>2022-01-01T00:09:21</td>\n",
                            "      <td>STATION</td>\n",
                            "      <td>STATION</td>\n",
                            "      <td>{'type': 'Point', 'coordinates': [-3.688822, 4...</td>\n",
                            "      <td>NaN</td>\n",
                            "      <td>2022-01-01T00:09:50</td>\n",
                            "      <td>73.0</td>\n",
                            "      <td>21.0</td>\n",
                            "      <td>Puerta del Ángel Caído</td>\n",
                            "      <td>73.0</td>\n",
                            "      <td>21.0</td>\n",
                            "      <td>Puerta del Ángel Caído</td>\n",
                            "    </tr>\n",
                            "    <tr>\n",
                            "      <th>7</th>\n",
                            "      <td>2022-01-01</td>\n",
                            "      <td>79006741Q_7657_2022-01-01T00:16:29</td>\n",
                            "      <td>7657.0</td>\n",
                            "      <td>1.0</td>\n",
                            "      <td>6.62</td>\n",
                            "      <td>{'type': 'Point', 'coordinates': [-3.6653055, ...</td>\n",
                            "      <td>NaN</td>\n",
                            "      <td>2022-01-01T00:09:52</td>\n",
                            "      <td>STATION</td>\n",
                            "      <td>STATION</td>\n",
                            "      <td>{'type': 'Point', 'coordinates': [-3.6657777, ...</td>\n",
                            "      <td>NaN</td>\n",
                            "      <td>2022-01-01T00:16:29</td>\n",
                            "      <td>192.0</td>\n",
                            "      <td>22.0</td>\n",
                            "      <td>Marqués de Zafra</td>\n",
                            "      <td>190.0</td>\n",
                            "      <td>17.0</td>\n",
                            "      <td>Parque Roma</td>\n",
                            "    </tr>\n",
                            "    <tr>\n",
                            "      <th>9</th>\n",
                            "      <td>2022-01-01</td>\n",
                            "      <td>76959007H_6653_2022-01-01T00:18:01</td>\n",
                            "      <td>6653.0</td>\n",
                            "      <td>1.0</td>\n",
                            "      <td>8.07</td>\n",
                            "      <td>{'type': 'Point', 'coordinates': [-3.6983055, ...</td>\n",
                            "      <td>NaN</td>\n",
                            "      <td>2022-01-01T00:09:57</td>\n",
                            "      <td>STATION</td>\n",
                            "      <td>STATION</td>\n",
                            "      <td>{'type': 'Point', 'coordinates': [-3.7025024, ...</td>\n",
                            "      <td>NaN</td>\n",
                            "      <td>2022-01-01T00:18:01</td>\n",
                            "      <td>183.0</td>\n",
                            "      <td>3.0</td>\n",
                            "      <td>Jaime el Conquistador</td>\n",
                            "      <td>47.0</td>\n",
                            "      <td>24.0</td>\n",
                            "      <td>Jesús y María</td>\n",
                            "    </tr>\n",
                            "  </tbody>\n",
                            "</table>\n",
                            "</div>"
                        ],
                        "text/plain": [
                            "        fecha                              idTrip  idBike  fleet  \\\n",
                            "1  2022-01-01  489978239_1718_2022-01-01T00:18:37  1718.0    1.0   \n",
                            "3  2022-01-01  06023769T_7340_2022-01-01T00:14:59  7340.0    1.0   \n",
                            "5  2022-01-01  50856526F_3861_2022-01-01T00:09:50  3861.0    1.0   \n",
                            "7  2022-01-01  79006741Q_7657_2022-01-01T00:16:29  7657.0    1.0   \n",
                            "9  2022-01-01  76959007H_6653_2022-01-01T00:18:01  6653.0    1.0   \n",
                            "\n",
                            "   trip_minutes                                 geolocation_unlock  \\\n",
                            "1         16.28  {'type': 'Point', 'coordinates': [-3.6714166, ...   \n",
                            "3          7.10  {'type': 'Point', 'coordinates': [-3.6894193, ...   \n",
                            "5          0.48  {'type': 'Point', 'coordinates': [-3.688822, 4...   \n",
                            "7          6.62  {'type': 'Point', 'coordinates': [-3.6653055, ...   \n",
                            "9          8.07  {'type': 'Point', 'coordinates': [-3.6983055, ...   \n",
                            "\n",
                            "  address_unlock          unlock_date locktype unlocktype  \\\n",
                            "1            NaN  2022-01-01T00:02:20  STATION    STATION   \n",
                            "3            NaN  2022-01-01T00:07:53  STATION    STATION   \n",
                            "5            NaN  2022-01-01T00:09:21  STATION    STATION   \n",
                            "7            NaN  2022-01-01T00:09:52  STATION    STATION   \n",
                            "9            NaN  2022-01-01T00:09:57  STATION    STATION   \n",
                            "\n",
                            "                                    geolocation_lock address_lock  \\\n",
                            "1  {'type': 'Point', 'coordinates': [-3.688398, 4...          NaN   \n",
                            "3  {'type': 'Point', 'coordinates': [-3.6993465, ...          NaN   \n",
                            "5  {'type': 'Point', 'coordinates': [-3.688822, 4...          NaN   \n",
                            "7  {'type': 'Point', 'coordinates': [-3.6657777, ...          NaN   \n",
                            "9  {'type': 'Point', 'coordinates': [-3.7025024, ...          NaN   \n",
                            "\n",
                            "             lock_date station_unlock  dock_unlock     unlock_station_name  \\\n",
                            "1  2022-01-01T00:18:37          200.0          3.0  Avenida de los Toreros   \n",
                            "3  2022-01-01T00:14:59           69.0          5.0           Antonio Maura   \n",
                            "5  2022-01-01T00:09:50           73.0         21.0  Puerta del Ángel Caído   \n",
                            "7  2022-01-01T00:16:29          192.0         22.0        Marqués de Zafra   \n",
                            "9  2022-01-01T00:18:01          183.0          3.0   Jaime el Conquistador   \n",
                            "\n",
                            "   station_lock  dock_lock          lock_station_name  \n",
                            "1          64.0        4.0  Plaza de la Independencia  \n",
                            "3         169.0       17.0             Manuel Silvela  \n",
                            "5          73.0       21.0     Puerta del Ángel Caído  \n",
                            "7         190.0       17.0                Parque Roma  \n",
                            "9          47.0       24.0              Jesús y María  "
                        ]
                    },
                    "execution_count": 51,
                    "metadata": {},
                    "output_type": "execute_result"
                }
            ],
            "source": [
                "trips_data.head()"
            ]
        },
        {
            "cell_type": "markdown",
            "metadata": {},
            "source": [
                "***Modify the columns***"
            ]
        },
        {
            "cell_type": "markdown",
            "metadata": {},
            "source": [
                "* Fecha"
            ]
        },
        {
            "cell_type": "code",
            "execution_count": null,
            "metadata": {},
            "outputs": [],
            "source": [
                "trips_data.rename(columns={'fecha': 'unlock_date1'}, inplace=True)"
            ]
        },
        {
            "cell_type": "markdown",
            "metadata": {},
            "source": [
                "* idTrip:"
            ]
        },
        {
            "cell_type": "code",
            "execution_count": 59,
            "metadata": {},
            "outputs": [],
            "source": [
                "trips_data['idTrip'] = trips_data['idTrip'].fillna(trips_data['idTrip']).str.slice(stop=9)"
            ]
        },
        {
            "cell_type": "code",
            "execution_count": 61,
            "metadata": {},
            "outputs": [],
            "source": [
                "trips_data.rename(columns={'idTrip': 'idDriver'}, inplace=True)"
            ]
        },
        {
            "cell_type": "markdown",
            "metadata": {},
            "source": [
                "* IdBike"
            ]
        },
        {
            "cell_type": "code",
            "execution_count": 64,
            "metadata": {},
            "outputs": [],
            "source": [
                "trips_data['idBike'] = trips_data['idBike'].astype(int)"
            ]
        },
        {
            "cell_type": "markdown",
            "metadata": {},
            "source": [
                "* Fleet"
            ]
        },
        {
            "cell_type": "code",
            "execution_count": 65,
            "metadata": {},
            "outputs": [],
            "source": [
                "trips_data['fleet'] = trips_data['fleet'].astype(int)"
            ]
        },
        {
            "cell_type": "markdown",
            "metadata": {},
            "source": [
                "* Geolocation unlock"
            ]
        },
        {
            "cell_type": "code",
            "execution_count": 76,
            "metadata": {},
            "outputs": [],
            "source": [
                "trips_data['geolocation_unlock'] = trips_data['geolocation_unlock'].apply(ast.literal_eval)\n",
                "trips_data['latitude_unlock'] = trips_data['geolocation_unlock'].apply(lambda x: x['coordinates'][1])\n",
                "trips_data['longitude_unlock'] = trips_data['geolocation_unlock'].apply(lambda x: x['coordinates'][0])"
            ]
        },
        {
            "cell_type": "code",
            "execution_count": 21,
            "metadata": {},
            "outputs": [
                {
                    "data": {
                        "text/html": [
                            "<div>\n",
                            "<style scoped>\n",
                            "    .dataframe tbody tr th:only-of-type {\n",
                            "        vertical-align: middle;\n",
                            "    }\n",
                            "\n",
                            "    .dataframe tbody tr th {\n",
                            "        vertical-align: top;\n",
                            "    }\n",
                            "\n",
                            "    .dataframe thead th {\n",
                            "        text-align: right;\n",
                            "    }\n",
                            "</style>\n",
                            "<table border=\"1\" class=\"dataframe\">\n",
                            "  <thead>\n",
                            "    <tr style=\"text-align: right;\">\n",
                            "      <th></th>\n",
                            "      <th>fecha</th>\n",
                            "      <th>idTrip</th>\n",
                            "      <th>idBike</th>\n",
                            "      <th>fleet</th>\n",
                            "      <th>trip_minutes</th>\n",
                            "      <th>geolocation_unlock</th>\n",
                            "      <th>address_unlock</th>\n",
                            "      <th>unlock_date</th>\n",
                            "      <th>locktype</th>\n",
                            "      <th>unlocktype</th>\n",
                            "      <th>geolocation_lock</th>\n",
                            "      <th>address_lock</th>\n",
                            "      <th>lock_date</th>\n",
                            "      <th>station_unlock</th>\n",
                            "      <th>dock_unlock</th>\n",
                            "      <th>unlock_station_name</th>\n",
                            "      <th>station_lock</th>\n",
                            "      <th>dock_lock</th>\n",
                            "      <th>lock_station_name</th>\n",
                            "    </tr>\n",
                            "  </thead>\n",
                            "  <tbody>\n",
                            "    <tr>\n",
                            "      <th>4144135</th>\n",
                            "      <td>2022-01-01</td>\n",
                            "      <td>489978239_1718_2022-01-01T00:18:37</td>\n",
                            "      <td>1718.0</td>\n",
                            "      <td>1.0</td>\n",
                            "      <td>16.28</td>\n",
                            "      <td>{'type': 'Point', 'coordinates': [-3.6714166, ...</td>\n",
                            "      <td>NaN</td>\n",
                            "      <td>2022-01-01T00:02:20</td>\n",
                            "      <td>STATION</td>\n",
                            "      <td>STATION</td>\n",
                            "      <td>{'type': 'Point', 'coordinates': [-3.688398, 4...</td>\n",
                            "      <td>NaN</td>\n",
                            "      <td>2022-01-01T00:18:37</td>\n",
                            "      <td>200.0</td>\n",
                            "      <td>3.0</td>\n",
                            "      <td>Avenida de los Toreros</td>\n",
                            "      <td>64.0</td>\n",
                            "      <td>4.0</td>\n",
                            "      <td>Plaza de la Independencia</td>\n",
                            "    </tr>\n",
                            "    <tr>\n",
                            "      <th>4144137</th>\n",
                            "      <td>2022-01-01</td>\n",
                            "      <td>06023769T_7340_2022-01-01T00:14:59</td>\n",
                            "      <td>7340.0</td>\n",
                            "      <td>1.0</td>\n",
                            "      <td>7.10</td>\n",
                            "      <td>{'type': 'Point', 'coordinates': [-3.6894193, ...</td>\n",
                            "      <td>NaN</td>\n",
                            "      <td>2022-01-01T00:07:53</td>\n",
                            "      <td>STATION</td>\n",
                            "      <td>STATION</td>\n",
                            "      <td>{'type': 'Point', 'coordinates': [-3.6993465, ...</td>\n",
                            "      <td>NaN</td>\n",
                            "      <td>2022-01-01T00:14:59</td>\n",
                            "      <td>69.0</td>\n",
                            "      <td>5.0</td>\n",
                            "      <td>Antonio Maura</td>\n",
                            "      <td>169.0</td>\n",
                            "      <td>17.0</td>\n",
                            "      <td>Manuel Silvela</td>\n",
                            "    </tr>\n",
                            "    <tr>\n",
                            "      <th>4144139</th>\n",
                            "      <td>2022-01-01</td>\n",
                            "      <td>50856526F_3861_2022-01-01T00:09:50</td>\n",
                            "      <td>3861.0</td>\n",
                            "      <td>1.0</td>\n",
                            "      <td>0.48</td>\n",
                            "      <td>{'type': 'Point', 'coordinates': [-3.688822, 4...</td>\n",
                            "      <td>NaN</td>\n",
                            "      <td>2022-01-01T00:09:21</td>\n",
                            "      <td>STATION</td>\n",
                            "      <td>STATION</td>\n",
                            "      <td>{'type': 'Point', 'coordinates': [-3.688822, 4...</td>\n",
                            "      <td>NaN</td>\n",
                            "      <td>2022-01-01T00:09:50</td>\n",
                            "      <td>73.0</td>\n",
                            "      <td>21.0</td>\n",
                            "      <td>Puerta del Ángel Caído</td>\n",
                            "      <td>73.0</td>\n",
                            "      <td>21.0</td>\n",
                            "      <td>Puerta del Ángel Caído</td>\n",
                            "    </tr>\n",
                            "    <tr>\n",
                            "      <th>4144141</th>\n",
                            "      <td>2022-01-01</td>\n",
                            "      <td>79006741Q_7657_2022-01-01T00:16:29</td>\n",
                            "      <td>7657.0</td>\n",
                            "      <td>1.0</td>\n",
                            "      <td>6.62</td>\n",
                            "      <td>{'type': 'Point', 'coordinates': [-3.6653055, ...</td>\n",
                            "      <td>NaN</td>\n",
                            "      <td>2022-01-01T00:09:52</td>\n",
                            "      <td>STATION</td>\n",
                            "      <td>STATION</td>\n",
                            "      <td>{'type': 'Point', 'coordinates': [-3.6657777, ...</td>\n",
                            "      <td>NaN</td>\n",
                            "      <td>2022-01-01T00:16:29</td>\n",
                            "      <td>192.0</td>\n",
                            "      <td>22.0</td>\n",
                            "      <td>Marqués de Zafra</td>\n",
                            "      <td>190.0</td>\n",
                            "      <td>17.0</td>\n",
                            "      <td>Parque Roma</td>\n",
                            "    </tr>\n",
                            "    <tr>\n",
                            "      <th>4144143</th>\n",
                            "      <td>2022-01-01</td>\n",
                            "      <td>76959007H_6653_2022-01-01T00:18:01</td>\n",
                            "      <td>6653.0</td>\n",
                            "      <td>1.0</td>\n",
                            "      <td>8.07</td>\n",
                            "      <td>{'type': 'Point', 'coordinates': [-3.6983055, ...</td>\n",
                            "      <td>NaN</td>\n",
                            "      <td>2022-01-01T00:09:57</td>\n",
                            "      <td>STATION</td>\n",
                            "      <td>STATION</td>\n",
                            "      <td>{'type': 'Point', 'coordinates': [-3.7025024, ...</td>\n",
                            "      <td>NaN</td>\n",
                            "      <td>2022-01-01T00:18:01</td>\n",
                            "      <td>183.0</td>\n",
                            "      <td>3.0</td>\n",
                            "      <td>Jaime el Conquistador</td>\n",
                            "      <td>47.0</td>\n",
                            "      <td>24.0</td>\n",
                            "      <td>Jesús y María</td>\n",
                            "    </tr>\n",
                            "  </tbody>\n",
                            "</table>\n",
                            "</div>"
                        ],
                        "text/plain": [
                            "             fecha                              idTrip  idBike  fleet  \\\n",
                            "4144135 2022-01-01  489978239_1718_2022-01-01T00:18:37  1718.0    1.0   \n",
                            "4144137 2022-01-01  06023769T_7340_2022-01-01T00:14:59  7340.0    1.0   \n",
                            "4144139 2022-01-01  50856526F_3861_2022-01-01T00:09:50  3861.0    1.0   \n",
                            "4144141 2022-01-01  79006741Q_7657_2022-01-01T00:16:29  7657.0    1.0   \n",
                            "4144143 2022-01-01  76959007H_6653_2022-01-01T00:18:01  6653.0    1.0   \n",
                            "\n",
                            "         trip_minutes                                 geolocation_unlock  \\\n",
                            "4144135         16.28  {'type': 'Point', 'coordinates': [-3.6714166, ...   \n",
                            "4144137          7.10  {'type': 'Point', 'coordinates': [-3.6894193, ...   \n",
                            "4144139          0.48  {'type': 'Point', 'coordinates': [-3.688822, 4...   \n",
                            "4144141          6.62  {'type': 'Point', 'coordinates': [-3.6653055, ...   \n",
                            "4144143          8.07  {'type': 'Point', 'coordinates': [-3.6983055, ...   \n",
                            "\n",
                            "        address_unlock          unlock_date locktype unlocktype  \\\n",
                            "4144135            NaN  2022-01-01T00:02:20  STATION    STATION   \n",
                            "4144137            NaN  2022-01-01T00:07:53  STATION    STATION   \n",
                            "4144139            NaN  2022-01-01T00:09:21  STATION    STATION   \n",
                            "4144141            NaN  2022-01-01T00:09:52  STATION    STATION   \n",
                            "4144143            NaN  2022-01-01T00:09:57  STATION    STATION   \n",
                            "\n",
                            "                                          geolocation_lock address_lock  \\\n",
                            "4144135  {'type': 'Point', 'coordinates': [-3.688398, 4...          NaN   \n",
                            "4144137  {'type': 'Point', 'coordinates': [-3.6993465, ...          NaN   \n",
                            "4144139  {'type': 'Point', 'coordinates': [-3.688822, 4...          NaN   \n",
                            "4144141  {'type': 'Point', 'coordinates': [-3.6657777, ...          NaN   \n",
                            "4144143  {'type': 'Point', 'coordinates': [-3.7025024, ...          NaN   \n",
                            "\n",
                            "                   lock_date station_unlock  dock_unlock  \\\n",
                            "4144135  2022-01-01T00:18:37          200.0          3.0   \n",
                            "4144137  2022-01-01T00:14:59           69.0          5.0   \n",
                            "4144139  2022-01-01T00:09:50           73.0         21.0   \n",
                            "4144141  2022-01-01T00:16:29          192.0         22.0   \n",
                            "4144143  2022-01-01T00:18:01          183.0          3.0   \n",
                            "\n",
                            "            unlock_station_name  station_lock  dock_lock  \\\n",
                            "4144135  Avenida de los Toreros          64.0        4.0   \n",
                            "4144137           Antonio Maura         169.0       17.0   \n",
                            "4144139  Puerta del Ángel Caído          73.0       21.0   \n",
                            "4144141        Marqués de Zafra         190.0       17.0   \n",
                            "4144143   Jaime el Conquistador          47.0       24.0   \n",
                            "\n",
                            "                 lock_station_name  \n",
                            "4144135  Plaza de la Independencia  \n",
                            "4144137             Manuel Silvela  \n",
                            "4144139     Puerta del Ángel Caído  \n",
                            "4144141                Parque Roma  \n",
                            "4144143              Jesús y María  "
                        ]
                    },
                    "execution_count": 21,
                    "metadata": {},
                    "output_type": "execute_result"
                }
            ],
            "source": [
                "# Convierte la columna 'fecha' a tipo de dato datetime si aún no lo está\n",
                "trips_data['fecha'] = pd.to_datetime(trips_data['fecha'])\n",
                "\n",
                "# Ordena el DataFrame por la columna 'fecha'\n",
                "trips_data = trips_data.sort_values(by='fecha')\n",
                "\n",
                "# Muestra las primeras filas del DataFrame ordenado\n",
                "trips_data.head()"
            ]
        },
        {
            "cell_type": "code",
            "execution_count": 42,
            "metadata": {},
            "outputs": [
                {
                    "data": {
                        "text/plain": [
                            "1.0    4111082\n",
                            "2.0      33052\n",
                            "Name: fleet, dtype: int64"
                        ]
                    },
                    "execution_count": 42,
                    "metadata": {},
                    "output_type": "execute_result"
                }
            ],
            "source": [
                "trips_data[\"fleet\"].value_counts()\n",
                "\n"
            ]
        },
        {
            "cell_type": "code",
            "execution_count": 36,
            "metadata": {},
            "outputs": [
                {
                    "name": "stdout",
                    "output_type": "stream",
                    "text": [
                        "fecha                        0\n",
                        "idTrip                 2041145\n",
                        "idBike                       0\n",
                        "fleet                        0\n",
                        "trip_minutes                 0\n",
                        "geolocation_unlock           0\n",
                        "address_unlock          548474\n",
                        "unlock_date                  0\n",
                        "locktype                     0\n",
                        "unlocktype                   0\n",
                        "geolocation_lock             0\n",
                        "address_lock            547602\n",
                        "lock_date                    0\n",
                        "station_unlock           16792\n",
                        "dock_unlock              16792\n",
                        "unlock_station_name      16792\n",
                        "station_lock             19907\n",
                        "dock_lock                19907\n",
                        "lock_station_name        19907\n",
                        "dtype: int64\n"
                    ]
                }
            ],
            "source": [
                "null_counts = trips_data.isnull().sum()\n",
                "print(null_counts)\n"
            ]
        },
        {
            "cell_type": "markdown",
            "metadata": {},
            "source": [
                "revisar nulos (idTrip)"
            ]
        },
        {
            "cell_type": "markdown",
            "metadata": {},
            "source": [
                "Despues de arreglar nulos en idTrip, splitear columna segun codigo de abajo:"
            ]
        },
        {
            "cell_type": "code",
            "execution_count": null,
            "metadata": {},
            "outputs": [],
            "source": [
                "'''# Separar la columna \"idTrip\" en varias columnas\n",
                "trips_data[['DNI', 'idBike2', 'Fecha2', 'Hora_Fin']] = trips_data['idTrip'].str.split('_|-', expand=True)\n",
                "\n",
                "# Convertir la columna 'Fecha' a tipo de dato datetime\n",
                "trips_data['Fecha2'] = pd.to_datetime(trips_data['Fecha2'])\n",
                "\n",
                "# Mostrar el DataFrame con las nuevas columnas\n",
                "print(trips_data)'''\n"
            ]
        },
        {
            "cell_type": "markdown",
            "metadata": {},
            "source": [
                "### Clean final data"
            ]
        },
        {
            "cell_type": "code",
            "execution_count": null,
            "metadata": {},
            "outputs": [],
            "source": [
                "'''# Creamos una función para proceder a la limpieza y adecuación del conjunto de datos importado\n",
                "def limpieza_datos (trips_data):\n",
                "  # Eliminamos las entradas de los viajes que han durado más de 2h\n",
                "  trips_data = trips_data[trips_data[\"trip_minutes\"] <= 120]\n",
                "  # Eliminamos las entradas de los viajes que han durado menos de 3 minutos\n",
                "  trips_data = trips_data[trips_data[\"trip_minutes\"] >= 3]\n",
                "  # Eliminamos los números de las estaciones\n",
                "  trips_data['unlock_station_name'] = trips_data['unlock_station_name'].str.replace('\\d+\\s*\\-\\s*', '')\n",
                "  trips_data['lock_station_name'] = trips_data['lock_station_name'].str.replace('\\d+\\s*\\-\\s*', '')\n",
                "  # Eliminamos los registros en los que el formato de fecha se encuentre mal introducido\n",
                "  trips_data['unlock_date'] = pd.to_datetime(trips_data['unlock_date'], format='%Y-%m-%dT%H:%M:%S', errors='coerce')\n",
                "  trips_data = trips_data.dropna(subset=['unlock_date'])\n",
                "  # Devolvemos la tabla de datos\n",
                "  return trips_data\n",
                "  '''"
            ]
        }
    ],
    "metadata": {
        "kernelspec": {
            "display_name": "Python 3.8.13 64-bit ('3.8.13')",
            "language": "python",
            "name": "python3"
        },
        "language_info": {
            "codemirror_mode": {
                "name": "ipython",
                "version": 3
            },
            "file_extension": ".py",
            "mimetype": "text/x-python",
            "name": "python",
            "nbconvert_exporter": "python",
            "pygments_lexer": "ipython3",
            "version": "3.12.0"
        },
        "orig_nbformat": 4,
        "vscode": {
            "interpreter": {
                "hash": "110cc1dee26208153f2972f08a2ad52b6a56238dc66d48e87fb757ef2996db56"
            }
        }
    },
    "nbformat": 4,
    "nbformat_minor": 2
}
