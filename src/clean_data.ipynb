{
    "cells": [
        {
            "cell_type": "markdown",
            "metadata": {},
            "source": [
                "# Clean Data"
            ]
        },
        {
            "cell_type": "markdown",
            "metadata": {},
            "source": [
                "***Import libraries***"
            ]
        },
        {
            "cell_type": "code",
            "execution_count": 115,
            "metadata": {},
            "outputs": [],
            "source": [
                "import pandas as pd\n",
                "import datetime\n",
                "import ast\n",
                "import warnings\n",
                "warnings.filterwarnings(\"ignore\")"
            ]
        },
        {
            "cell_type": "markdown",
            "metadata": {},
            "source": [
                "### CSV FILE ###"
            ]
        },
        {
            "cell_type": "markdown",
            "metadata": {},
            "source": [
                "***Read data file***"
            ]
        },
        {
            "cell_type": "code",
            "execution_count": 116,
            "metadata": {},
            "outputs": [],
            "source": [
                "trips_data = pd.read_csv(\"../data/raw/csv/combined_csv.csv\", sep=\",\", low_memory=False)"
            ]
        },
        {
            "cell_type": "markdown",
            "metadata": {},
            "source": [
                "***Delete the null rows***"
            ]
        },
        {
            "cell_type": "code",
            "execution_count": 117,
            "metadata": {},
            "outputs": [],
            "source": [
                "trips_data.dropna(how=\"all\", inplace=True)"
            ]
        },
        {
            "cell_type": "code",
            "execution_count": 118,
            "metadata": {},
            "outputs": [
                {
                    "name": "stdout",
                    "output_type": "stream",
                    "text": [
                        "<class 'pandas.core.frame.DataFrame'>\n",
                        "Index: 4144134 entries, 1 to 8288267\n",
                        "Data columns (total 19 columns):\n",
                        " #   Column               Dtype  \n",
                        "---  ------               -----  \n",
                        " 0   fecha                object \n",
                        " 1   idTrip               object \n",
                        " 2   idBike               float64\n",
                        " 3   fleet                float64\n",
                        " 4   trip_minutes         float64\n",
                        " 5   geolocation_unlock   object \n",
                        " 6   address_unlock       object \n",
                        " 7   unlock_date          object \n",
                        " 8   locktype             object \n",
                        " 9   unlocktype           object \n",
                        " 10  geolocation_lock     object \n",
                        " 11  address_lock         object \n",
                        " 12  lock_date            object \n",
                        " 13  station_unlock       object \n",
                        " 14  dock_unlock          float64\n",
                        " 15  unlock_station_name  object \n",
                        " 16  station_lock         float64\n",
                        " 17  dock_lock            float64\n",
                        " 18  lock_station_name    object \n",
                        "dtypes: float64(6), object(13)\n",
                        "memory usage: 632.3+ MB\n"
                    ]
                }
            ],
            "source": [
                "trips_data.info()"
            ]
        },
        {
            "cell_type": "markdown",
            "metadata": {},
            "source": [
                "***Modify column contents***"
            ]
        },
        {
            "cell_type": "markdown",
            "metadata": {},
            "source": [
                "* Fecha"
            ]
        },
        {
            "cell_type": "code",
            "execution_count": 119,
            "metadata": {},
            "outputs": [],
            "source": [
                "trips_data.rename(columns={'fecha': 'unlock_date1'}, inplace=True)"
            ]
        },
        {
            "cell_type": "markdown",
            "metadata": {},
            "source": [
                "* idTrip"
            ]
        },
        {
            "cell_type": "code",
            "execution_count": 120,
            "metadata": {},
            "outputs": [],
            "source": [
                "trips_data['idTrip'] = trips_data['idTrip'].fillna(trips_data['idTrip']).str.slice(stop=9)\n",
                "trips_data.rename(columns={'idTrip': 'idDriver'}, inplace=True)"
            ]
        },
        {
            "cell_type": "markdown",
            "metadata": {},
            "source": [
                "* IdBike"
            ]
        },
        {
            "cell_type": "code",
            "execution_count": 121,
            "metadata": {},
            "outputs": [],
            "source": [
                "trips_data['idBike'] = trips_data['idBike'].astype(int)"
            ]
        },
        {
            "cell_type": "markdown",
            "metadata": {},
            "source": [
                "* Fleet"
            ]
        },
        {
            "cell_type": "code",
            "execution_count": 122,
            "metadata": {},
            "outputs": [],
            "source": [
                "trips_data['fleet'] = trips_data['fleet'].astype(int)"
            ]
        },
        {
            "cell_type": "markdown",
            "metadata": {},
            "source": [
                "* Geolocation_unlock"
            ]
        },
        {
            "cell_type": "code",
            "execution_count": 123,
            "metadata": {},
            "outputs": [],
            "source": [
                "trips_data['geolocation_unlock'] = trips_data['geolocation_unlock'].apply(ast.literal_eval)\n",
                "trips_data['latitude_unlock'] = trips_data['geolocation_unlock'].apply(lambda x: x['coordinates'][1])\n",
                "trips_data['longitude_unlock'] = trips_data['geolocation_unlock'].apply(lambda x: x['coordinates'][0])"
            ]
        },
        {
            "cell_type": "code",
            "execution_count": 124,
            "metadata": {},
            "outputs": [],
            "source": [
                "trips_data.drop(['geolocation_unlock'], axis=1, inplace=True)"
            ]
        },
        {
            "cell_type": "markdown",
            "metadata": {},
            "source": [
                "* Unlock_date"
            ]
        },
        {
            "cell_type": "code",
            "execution_count": 125,
            "metadata": {},
            "outputs": [],
            "source": [
                "trips_data['unlock_date'] = trips_data['unlock_date'].str.split('T').str[-1]\n",
                "trips_data.rename(columns={'unlock_date': 'unlock_hour'}, inplace=True)"
            ]
        },
        {
            "cell_type": "code",
            "execution_count": 126,
            "metadata": {},
            "outputs": [],
            "source": [
                "trips_data.rename(columns={'unlock_date1': 'unlock_date'}, inplace=True)"
            ]
        },
        {
            "cell_type": "markdown",
            "metadata": {},
            "source": [
                "* Geolocation_lock"
            ]
        },
        {
            "cell_type": "code",
            "execution_count": 127,
            "metadata": {},
            "outputs": [],
            "source": [
                "trips_data['geolocation_lock'] = trips_data['geolocation_lock'].apply(ast.literal_eval)\n",
                "trips_data['latitude_lock'] = trips_data['geolocation_lock'].apply(lambda x: x['coordinates'][1])\n",
                "trips_data['longitude_lock'] = trips_data['geolocation_lock'].apply(lambda x: x['coordinates'][0])"
            ]
        },
        {
            "cell_type": "code",
            "execution_count": null,
            "metadata": {},
            "outputs": [],
            "source": [
                "trips_data.drop(['geolocation_lock'], axis=1, inplace=True)"
            ]
        },
        {
            "cell_type": "markdown",
            "metadata": {},
            "source": [
                "* Lock_date"
            ]
        },
        {
            "cell_type": "code",
            "execution_count": null,
            "metadata": {},
            "outputs": [],
            "source": [
                "trips_data['lock_date'] = pd.to_datetime(trips_data['lock_date'])\n",
                "trips_data['lock_date1'] = trips_data['lock_date'].dt.date\n",
                "trips_data['lock_hour'] = trips_data['lock_date'].dt.time"
            ]
        },
        {
            "cell_type": "code",
            "execution_count": null,
            "metadata": {},
            "outputs": [],
            "source": [
                "trips_data.drop(['lock_date'], axis=1, inplace=True)"
            ]
        },
        {
            "cell_type": "code",
            "execution_count": null,
            "metadata": {},
            "outputs": [],
            "source": [
                "trips_data.rename(columns={'lock_date1': 'unlock_date'}, inplace=True)"
            ]
        },
        {
            "cell_type": "markdown",
            "metadata": {},
            "source": [
                "* Station_unlock"
            ]
        },
        {
            "cell_type": "code",
            "execution_count": null,
            "metadata": {},
            "outputs": [],
            "source": [
                "trips_data['station_unlock'] = pd.to_numeric(trips_data['station_unlock'], errors='coerce')\n",
                "trips_data['station_unlock'] = trips_data['station_unlock'].fillna(0).astype(int)"
            ]
        },
        {
            "cell_type": "markdown",
            "metadata": {},
            "source": [
                "* Dock_unlock"
            ]
        },
        {
            "cell_type": "code",
            "execution_count": null,
            "metadata": {},
            "outputs": [],
            "source": [
                "trips_data['dock_unlock'] = pd.to_numeric(trips_data['dock_unlock'], errors='coerce')\n",
                "trips_data['dock_unlock'] = trips_data['dock_unlock'].fillna(0).astype(int)"
            ]
        },
        {
            "cell_type": "markdown",
            "metadata": {},
            "source": [
                "* Station_lock"
            ]
        },
        {
            "cell_type": "code",
            "execution_count": null,
            "metadata": {},
            "outputs": [],
            "source": [
                "trips_data['station_lock'] = pd.to_numeric(trips_data['station_lock'], errors='coerce')\n",
                "trips_data['station_lock'] = trips_data['station_lock'].fillna(0).astype(int)"
            ]
        },
        {
            "cell_type": "markdown",
            "metadata": {},
            "source": [
                "* Dock_lock"
            ]
        },
        {
            "cell_type": "code",
            "execution_count": null,
            "metadata": {},
            "outputs": [],
            "source": [
                "trips_data['dock_lock'] = pd.to_numeric(trips_data['dock_lock'], errors='coerce')\n",
                "trips_data['dock_lock'] = trips_data['dock_lock'].fillna(0).astype(int)"
            ]
        },
        {
            "cell_type": "markdown",
            "metadata": {},
            "source": [
                "***Sort the columns***"
            ]
        },
        {
            "cell_type": "code",
            "execution_count": null,
            "metadata": {},
            "outputs": [],
            "source": [
                "trips_data = trips_data.reindex(columns=['idDriver', 'idBike', 'trip_minutes', 'fleet', 'unlock_date', 'unlock_hour', 'latitude_unlock', 'longitude_unlock', 'address_unlock', 'unlocktype', 'station_unlock', 'dock_unlock', 'unlock_station_name','lock_date', 'lock_hour', 'latitude_lock', 'longitude_lock', 'address_lock', 'locktype', 'station_lock', 'dock_lock', 'lock_station_name'])"
            ]
        },
        {
            "cell_type": "code",
            "execution_count": null,
            "metadata": {},
            "outputs": [
                {
                    "name": "stdout",
                    "output_type": "stream",
                    "text": [
                        "<class 'pandas.core.frame.DataFrame'>\n",
                        "Index: 4144134 entries, 1 to 8288267\n",
                        "Data columns (total 22 columns):\n",
                        " #   Column               Dtype  \n",
                        "---  ------               -----  \n",
                        " 0   idDriver             object \n",
                        " 1   idBike               int32  \n",
                        " 2   trip_minutes         float64\n",
                        " 3   fleet                int32  \n",
                        " 4   unlock_date          object \n",
                        " 5   unlock_hour          object \n",
                        " 6   latitude_unlock      float64\n",
                        " 7   longitude_unlock     float64\n",
                        " 8   address_unlock       object \n",
                        " 9   unlocktype           object \n",
                        " 10  station_unlock       int32  \n",
                        " 11  dock_unlock          int32  \n",
                        " 12  unlock_station_name  object \n",
                        " 13  lock_date            float64\n",
                        " 14  lock_hour            object \n",
                        " 15  latitude_lock        object \n",
                        " 16  longitude_lock       object \n",
                        " 17  address_lock         object \n",
                        " 18  locktype             object \n",
                        " 19  station_lock         int32  \n",
                        " 20  dock_lock            int32  \n",
                        " 21  lock_station_name    object \n",
                        "dtypes: float64(4), int32(6), object(12)\n",
                        "memory usage: 632.3+ MB\n"
                    ]
                }
            ],
            "source": [
                "trips_data.info()"
            ]
        },
        {
            "cell_type": "markdown",
            "metadata": {},
            "source": [
                "***Save the clean file***"
            ]
        },
        {
            "cell_type": "code",
            "execution_count": null,
            "metadata": {},
            "outputs": [],
            "source": [
                "trips_data.to_csv('../data/processed/clean_data_trips.csv', index=False)"
            ]
        },
        {
            "cell_type": "markdown",
            "metadata": {},
            "source": [
                "### JSON FILE ###"
            ]
        },
        {
            "cell_type": "code",
            "execution_count": null,
            "metadata": {},
            "outputs": [],
            "source": [
                "data_stations = pd.read_json('../data/raw/json/combined_json.json', lines=True)"
            ]
        },
        {
            "cell_type": "code",
            "execution_count": null,
            "metadata": {},
            "outputs": [],
            "source": [
                "stations_df = pd.json_normalize(data_stations['stations'].explode())"
            ]
        },
        {
            "cell_type": "code",
            "execution_count": null,
            "metadata": {},
            "outputs": [
                {
                    "name": "stdout",
                    "output_type": "stream",
                    "text": [
                        "<class 'pandas.core.frame.DataFrame'>\n",
                        "RangeIndex: 8738 entries, 0 to 8737\n",
                        "Data columns (total 2 columns):\n",
                        " #   Column    Non-Null Count  Dtype \n",
                        "---  ------    --------------  ----- \n",
                        " 0   _id       8738 non-null   object\n",
                        " 1   stations  8738 non-null   object\n",
                        "dtypes: object(2)\n",
                        "memory usage: 136.7+ KB\n"
                    ]
                }
            ],
            "source": [
                "data_stations.info()"
            ]
        },
        {
            "cell_type": "code",
            "execution_count": null,
            "metadata": {},
            "outputs": [
                {
                    "name": "stdout",
                    "output_type": "stream",
                    "text": [
                        "<class 'pandas.core.frame.DataFrame'>\n",
                        "RangeIndex: 2306832 entries, 0 to 2306831\n",
                        "Data columns (total 13 columns):\n",
                        " #   Column              Dtype \n",
                        "---  ------              ----- \n",
                        " 0   activate            int64 \n",
                        " 1   name                object\n",
                        " 2   reservations_count  int64 \n",
                        " 3   light               int64 \n",
                        " 4   total_bases         int64 \n",
                        " 5   free_bases          int64 \n",
                        " 6   number              object\n",
                        " 7   longitude           object\n",
                        " 8   no_available        int64 \n",
                        " 9   address             object\n",
                        " 10  latitude            object\n",
                        " 11  dock_bikes          int64 \n",
                        " 12  id                  int64 \n",
                        "dtypes: int64(8), object(5)\n",
                        "memory usage: 228.8+ MB\n"
                    ]
                }
            ],
            "source": [
                "stations_df.info()"
            ]
        },
        {
            "cell_type": "code",
            "execution_count": null,
            "metadata": {},
            "outputs": [],
            "source": [
                "replicas = 264\n",
                "data_stations_rep = pd.concat([data_stations]*replicas)"
            ]
        }
    ],
    "metadata": {
        "kernelspec": {
            "display_name": "Python 3.8.13 64-bit ('3.8.13')",
            "language": "python",
            "name": "python3"
        },
        "language_info": {
            "codemirror_mode": {
                "name": "ipython",
                "version": 3
            },
            "file_extension": ".py",
            "mimetype": "text/x-python",
            "name": "python",
            "nbconvert_exporter": "python",
            "pygments_lexer": "ipython3",
            "version": "3.12.0"
        },
        "orig_nbformat": 4,
        "vscode": {
            "interpreter": {
                "hash": "110cc1dee26208153f2972f08a2ad52b6a56238dc66d48e87fb757ef2996db56"
            }
        }
    },
    "nbformat": 4,
    "nbformat_minor": 2
}
