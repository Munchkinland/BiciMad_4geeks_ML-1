{
    "cells": [
        {
            "cell_type": "markdown",
            "metadata": {},
            "source": [
                "# Clean Data"
            ]
        },
        {
            "cell_type": "markdown",
            "metadata": {},
            "source": [
                "***Import libraries***"
            ]
        },
        {
            "cell_type": "code",
            "execution_count": 110,
            "metadata": {},
            "outputs": [],
            "source": [
                "import pandas as pd\n",
                "import datetime\n",
                "import ast\n",
                "import warnings\n",
                "warnings.filterwarnings(\"ignore\")"
            ]
        },
        {
            "cell_type": "markdown",
            "metadata": {},
            "source": [
                "### CSV FILE ###"
            ]
        },
        {
            "cell_type": "markdown",
            "metadata": {},
            "source": [
                "***Read data file***"
            ]
        },
        {
            "cell_type": "code",
            "execution_count": 111,
            "metadata": {},
            "outputs": [],
            "source": [
                "trips_data = pd.read_csv(\"../data/raw/csv/combined_csv.csv\", sep=\",\", low_memory=False)"
            ]
        },
        {
            "cell_type": "markdown",
            "metadata": {},
            "source": [
                "***Delete the null rows***"
            ]
        },
        {
            "cell_type": "code",
            "execution_count": 112,
            "metadata": {},
            "outputs": [],
            "source": [
                "trips_data.dropna(how=\"all\", inplace=True)"
            ]
        },
        {
            "cell_type": "code",
            "execution_count": 113,
            "metadata": {},
            "outputs": [
                {
                    "name": "stdout",
                    "output_type": "stream",
                    "text": [
                        "<class 'pandas.core.frame.DataFrame'>\n",
                        "Index: 4144134 entries, 1 to 8288267\n",
                        "Data columns (total 19 columns):\n",
                        " #   Column               Dtype  \n",
                        "---  ------               -----  \n",
                        " 0   fecha                object \n",
                        " 1   idTrip               object \n",
                        " 2   idBike               float64\n",
                        " 3   fleet                float64\n",
                        " 4   trip_minutes         float64\n",
                        " 5   geolocation_unlock   object \n",
                        " 6   address_unlock       object \n",
                        " 7   unlock_date          object \n",
                        " 8   locktype             object \n",
                        " 9   unlocktype           object \n",
                        " 10  geolocation_lock     object \n",
                        " 11  address_lock         object \n",
                        " 12  lock_date            object \n",
                        " 13  station_unlock       object \n",
                        " 14  dock_unlock          float64\n",
                        " 15  unlock_station_name  object \n",
                        " 16  station_lock         float64\n",
                        " 17  dock_lock            float64\n",
                        " 18  lock_station_name    object \n",
                        "dtypes: float64(6), object(13)\n",
                        "memory usage: 632.3+ MB\n"
                    ]
                }
            ],
            "source": [
                "trips_data.info()"
            ]
        },
        {
            "cell_type": "markdown",
            "metadata": {},
            "source": [
                "***Modify column contents***"
            ]
        },
        {
            "cell_type": "markdown",
            "metadata": {},
            "source": [
                "* Fecha"
            ]
        },
        {
            "cell_type": "code",
            "execution_count": 114,
            "metadata": {},
            "outputs": [],
            "source": [
                "trips_data.rename(columns={'fecha': 'unlock_date1'}, inplace=True)"
            ]
        },
        {
            "cell_type": "markdown",
            "metadata": {},
            "source": [
                "* idTrip"
            ]
        },
        {
            "cell_type": "code",
            "execution_count": 115,
            "metadata": {},
            "outputs": [],
            "source": [
                "trips_data['idTrip'] = trips_data['idTrip'].fillna(trips_data['idTrip']).str.slice(stop=9)\n",
                "trips_data.rename(columns={'idTrip': 'idDriver'}, inplace=True)"
            ]
        },
        {
            "cell_type": "markdown",
            "metadata": {},
            "source": [
                "* IdBike"
            ]
        },
        {
            "cell_type": "code",
            "execution_count": 116,
            "metadata": {},
            "outputs": [],
            "source": [
                "trips_data['idBike'] = trips_data['idBike'].astype(int)"
            ]
        },
        {
            "cell_type": "markdown",
            "metadata": {},
            "source": [
                "* Fleet"
            ]
        },
        {
            "cell_type": "code",
            "execution_count": 117,
            "metadata": {},
            "outputs": [],
            "source": [
                "trips_data['fleet'] = trips_data['fleet'].astype(int)"
            ]
        },
        {
            "cell_type": "markdown",
            "metadata": {},
            "source": [
                "* Geolocation_unlock"
            ]
        },
        {
            "cell_type": "code",
            "execution_count": 118,
            "metadata": {},
            "outputs": [],
            "source": [
                "trips_data['geolocation_unlock'] = trips_data['geolocation_unlock'].apply(ast.literal_eval)\n",
                "trips_data['latitude_unlock'] = trips_data['geolocation_unlock'].apply(lambda x: x['coordinates'][1])\n",
                "trips_data['longitude_unlock'] = trips_data['geolocation_unlock'].apply(lambda x: x['coordinates'][0])"
            ]
        },
        {
            "cell_type": "code",
            "execution_count": 119,
            "metadata": {},
            "outputs": [],
            "source": [
                "trips_data['latitude_unlock'] = trips_data['latitude_unlock'].astype(str)\n",
                "trips_data['longitude_unlock'] = trips_data['longitude_unlock'].astype(str)"
            ]
        },
        {
            "cell_type": "code",
            "execution_count": 120,
            "metadata": {},
            "outputs": [],
            "source": [
                "trips_data.drop(['geolocation_unlock'], axis=1, inplace=True)"
            ]
        },
        {
            "cell_type": "markdown",
            "metadata": {},
            "source": [
                "* Unlock_date"
            ]
        },
        {
            "cell_type": "code",
            "execution_count": 121,
            "metadata": {},
            "outputs": [],
            "source": [
                "trips_data['unlock_date'] = trips_data['unlock_date'].str.split('T').str[-1]\n",
                "trips_data.rename(columns={'unlock_date': 'unlock_hour'}, inplace=True)"
            ]
        },
        {
            "cell_type": "code",
            "execution_count": 122,
            "metadata": {},
            "outputs": [],
            "source": [
                "trips_data['unlock_hour'] = pd.to_datetime(trips_data['unlock_hour'])"
            ]
        },
        {
            "cell_type": "code",
            "execution_count": 123,
            "metadata": {},
            "outputs": [],
            "source": [
                "trips_data['unlock_hour'] = trips_data['unlock_hour'].dt.time"
            ]
        },
        {
            "cell_type": "code",
            "execution_count": 124,
            "metadata": {},
            "outputs": [],
            "source": [
                "trips_data.rename(columns={'unlock_date1': 'unlock_date'}, inplace=True)"
            ]
        },
        {
            "cell_type": "markdown",
            "metadata": {},
            "source": [
                "* Geolocation_lock"
            ]
        },
        {
            "cell_type": "code",
            "execution_count": 125,
            "metadata": {},
            "outputs": [],
            "source": [
                "trips_data['geolocation_lock'] = trips_data['geolocation_lock'].apply(ast.literal_eval)\n",
                "trips_data['latitude_lock'] = trips_data['geolocation_lock'].apply(lambda x: x['coordinates'][1])\n",
                "trips_data['longitude_lock'] = trips_data['geolocation_lock'].apply(lambda x: x['coordinates'][0])"
            ]
        },
        {
            "cell_type": "code",
            "execution_count": 126,
            "metadata": {},
            "outputs": [],
            "source": [
                "trips_data.drop(['geolocation_lock'], axis=1, inplace=True)"
            ]
        },
        {
            "cell_type": "markdown",
            "metadata": {},
            "source": [
                "* Lock_date"
            ]
        },
        {
            "cell_type": "code",
            "execution_count": 127,
            "metadata": {},
            "outputs": [],
            "source": [
                "trips_data['lock_date'] = pd.to_datetime(trips_data['lock_date'])\n",
                "trips_data['lock_date1'] = trips_data['lock_date'].dt.date\n",
                "trips_data['lock_hour'] = trips_data['lock_date'].dt.time"
            ]
        },
        {
            "cell_type": "code",
            "execution_count": 128,
            "metadata": {},
            "outputs": [],
            "source": [
                "trips_data.drop(['lock_date'], axis=1, inplace=True)"
            ]
        },
        {
            "cell_type": "code",
            "execution_count": 129,
            "metadata": {},
            "outputs": [],
            "source": [
                "trips_data.rename(columns={'lock_date1': 'lock_date'}, inplace=True)"
            ]
        },
        {
            "cell_type": "markdown",
            "metadata": {},
            "source": [
                "* Station_unlock"
            ]
        },
        {
            "cell_type": "code",
            "execution_count": 130,
            "metadata": {},
            "outputs": [],
            "source": [
                "trips_data['station_unlock'] = pd.to_numeric(trips_data['station_unlock'], errors='coerce')\n",
                "trips_data['station_unlock'] = trips_data['station_unlock'].fillna(0).astype(int)"
            ]
        },
        {
            "cell_type": "markdown",
            "metadata": {},
            "source": [
                "* Dock_unlock"
            ]
        },
        {
            "cell_type": "code",
            "execution_count": 131,
            "metadata": {},
            "outputs": [],
            "source": [
                "trips_data['dock_unlock'] = pd.to_numeric(trips_data['dock_unlock'], errors='coerce')\n",
                "trips_data['dock_unlock'] = trips_data['dock_unlock'].fillna(0).astype(int)"
            ]
        },
        {
            "cell_type": "markdown",
            "metadata": {},
            "source": [
                "* Station_lock"
            ]
        },
        {
            "cell_type": "code",
            "execution_count": 132,
            "metadata": {},
            "outputs": [],
            "source": [
                "trips_data['station_lock'] = pd.to_numeric(trips_data['station_lock'], errors='coerce')\n",
                "trips_data['station_lock'] = trips_data['station_lock'].fillna(0).astype(int)"
            ]
        },
        {
            "cell_type": "markdown",
            "metadata": {},
            "source": [
                "* Dock_lock"
            ]
        },
        {
            "cell_type": "code",
            "execution_count": 133,
            "metadata": {},
            "outputs": [],
            "source": [
                "trips_data['dock_lock'] = pd.to_numeric(trips_data['dock_lock'], errors='coerce')\n",
                "trips_data['dock_lock'] = trips_data['dock_lock'].fillna(0).astype(int)"
            ]
        },
        {
            "cell_type": "markdown",
            "metadata": {},
            "source": [
                "***Sort the columns***"
            ]
        },
        {
            "cell_type": "code",
            "execution_count": 134,
            "metadata": {},
            "outputs": [
                {
                    "data": {
                        "text/html": [
                            "<div>\n",
                            "<style scoped>\n",
                            "    .dataframe tbody tr th:only-of-type {\n",
                            "        vertical-align: middle;\n",
                            "    }\n",
                            "\n",
                            "    .dataframe tbody tr th {\n",
                            "        vertical-align: top;\n",
                            "    }\n",
                            "\n",
                            "    .dataframe thead th {\n",
                            "        text-align: right;\n",
                            "    }\n",
                            "</style>\n",
                            "<table border=\"1\" class=\"dataframe\">\n",
                            "  <thead>\n",
                            "    <tr style=\"text-align: right;\">\n",
                            "      <th></th>\n",
                            "      <th>1</th>\n",
                            "      <th>3</th>\n",
                            "      <th>5</th>\n",
                            "      <th>7</th>\n",
                            "      <th>9</th>\n",
                            "    </tr>\n",
                            "  </thead>\n",
                            "  <tbody>\n",
                            "    <tr>\n",
                            "      <th>unlock_date</th>\n",
                            "      <td>2022-01-01</td>\n",
                            "      <td>2022-01-01</td>\n",
                            "      <td>2022-01-01</td>\n",
                            "      <td>2022-01-01</td>\n",
                            "      <td>2022-01-01</td>\n",
                            "    </tr>\n",
                            "    <tr>\n",
                            "      <th>idDriver</th>\n",
                            "      <td>489978239</td>\n",
                            "      <td>06023769T</td>\n",
                            "      <td>50856526F</td>\n",
                            "      <td>79006741Q</td>\n",
                            "      <td>76959007H</td>\n",
                            "    </tr>\n",
                            "    <tr>\n",
                            "      <th>idBike</th>\n",
                            "      <td>1718</td>\n",
                            "      <td>7340</td>\n",
                            "      <td>3861</td>\n",
                            "      <td>7657</td>\n",
                            "      <td>6653</td>\n",
                            "    </tr>\n",
                            "    <tr>\n",
                            "      <th>fleet</th>\n",
                            "      <td>1</td>\n",
                            "      <td>1</td>\n",
                            "      <td>1</td>\n",
                            "      <td>1</td>\n",
                            "      <td>1</td>\n",
                            "    </tr>\n",
                            "    <tr>\n",
                            "      <th>trip_minutes</th>\n",
                            "      <td>16.28</td>\n",
                            "      <td>7.1</td>\n",
                            "      <td>0.48</td>\n",
                            "      <td>6.62</td>\n",
                            "      <td>8.07</td>\n",
                            "    </tr>\n",
                            "    <tr>\n",
                            "      <th>address_unlock</th>\n",
                            "      <td>NaN</td>\n",
                            "      <td>NaN</td>\n",
                            "      <td>NaN</td>\n",
                            "      <td>NaN</td>\n",
                            "      <td>NaN</td>\n",
                            "    </tr>\n",
                            "    <tr>\n",
                            "      <th>unlock_hour</th>\n",
                            "      <td>00:02:20</td>\n",
                            "      <td>00:07:53</td>\n",
                            "      <td>00:09:21</td>\n",
                            "      <td>00:09:52</td>\n",
                            "      <td>00:09:57</td>\n",
                            "    </tr>\n",
                            "    <tr>\n",
                            "      <th>locktype</th>\n",
                            "      <td>STATION</td>\n",
                            "      <td>STATION</td>\n",
                            "      <td>STATION</td>\n",
                            "      <td>STATION</td>\n",
                            "      <td>STATION</td>\n",
                            "    </tr>\n",
                            "    <tr>\n",
                            "      <th>unlocktype</th>\n",
                            "      <td>STATION</td>\n",
                            "      <td>STATION</td>\n",
                            "      <td>STATION</td>\n",
                            "      <td>STATION</td>\n",
                            "      <td>STATION</td>\n",
                            "    </tr>\n",
                            "    <tr>\n",
                            "      <th>address_lock</th>\n",
                            "      <td>NaN</td>\n",
                            "      <td>NaN</td>\n",
                            "      <td>NaN</td>\n",
                            "      <td>NaN</td>\n",
                            "      <td>NaN</td>\n",
                            "    </tr>\n",
                            "    <tr>\n",
                            "      <th>station_unlock</th>\n",
                            "      <td>200</td>\n",
                            "      <td>69</td>\n",
                            "      <td>73</td>\n",
                            "      <td>192</td>\n",
                            "      <td>183</td>\n",
                            "    </tr>\n",
                            "    <tr>\n",
                            "      <th>dock_unlock</th>\n",
                            "      <td>3</td>\n",
                            "      <td>5</td>\n",
                            "      <td>21</td>\n",
                            "      <td>22</td>\n",
                            "      <td>3</td>\n",
                            "    </tr>\n",
                            "    <tr>\n",
                            "      <th>unlock_station_name</th>\n",
                            "      <td>Avenida de los Toreros</td>\n",
                            "      <td>Antonio Maura</td>\n",
                            "      <td>Puerta del Ángel Caído</td>\n",
                            "      <td>Marqués de Zafra</td>\n",
                            "      <td>Jaime el Conquistador</td>\n",
                            "    </tr>\n",
                            "    <tr>\n",
                            "      <th>station_lock</th>\n",
                            "      <td>64</td>\n",
                            "      <td>169</td>\n",
                            "      <td>73</td>\n",
                            "      <td>190</td>\n",
                            "      <td>47</td>\n",
                            "    </tr>\n",
                            "    <tr>\n",
                            "      <th>dock_lock</th>\n",
                            "      <td>4</td>\n",
                            "      <td>17</td>\n",
                            "      <td>21</td>\n",
                            "      <td>17</td>\n",
                            "      <td>24</td>\n",
                            "    </tr>\n",
                            "    <tr>\n",
                            "      <th>lock_station_name</th>\n",
                            "      <td>Plaza de la Independencia</td>\n",
                            "      <td>Manuel Silvela</td>\n",
                            "      <td>Puerta del Ángel Caído</td>\n",
                            "      <td>Parque Roma</td>\n",
                            "      <td>Jesús y María</td>\n",
                            "    </tr>\n",
                            "    <tr>\n",
                            "      <th>latitude_unlock</th>\n",
                            "      <td>40.4318611</td>\n",
                            "      <td>40.4166834</td>\n",
                            "      <td>40.409808</td>\n",
                            "      <td>40.426</td>\n",
                            "      <td>40.3962222</td>\n",
                            "    </tr>\n",
                            "    <tr>\n",
                            "      <th>longitude_unlock</th>\n",
                            "      <td>-3.6714166</td>\n",
                            "      <td>-3.6894193</td>\n",
                            "      <td>-3.688822</td>\n",
                            "      <td>-3.6653055</td>\n",
                            "      <td>-3.6983055</td>\n",
                            "    </tr>\n",
                            "    <tr>\n",
                            "      <th>latitude_lock</th>\n",
                            "      <td>40.419752</td>\n",
                            "      <td>40.430952</td>\n",
                            "      <td>40.409808</td>\n",
                            "      <td>40.418667</td>\n",
                            "      <td>40.410156</td>\n",
                            "    </tr>\n",
                            "    <tr>\n",
                            "      <th>longitude_lock</th>\n",
                            "      <td>-3.688398</td>\n",
                            "      <td>-3.699346</td>\n",
                            "      <td>-3.688822</td>\n",
                            "      <td>-3.665778</td>\n",
                            "      <td>-3.702502</td>\n",
                            "    </tr>\n",
                            "    <tr>\n",
                            "      <th>lock_date</th>\n",
                            "      <td>2022-01-01</td>\n",
                            "      <td>2022-01-01</td>\n",
                            "      <td>2022-01-01</td>\n",
                            "      <td>2022-01-01</td>\n",
                            "      <td>2022-01-01</td>\n",
                            "    </tr>\n",
                            "    <tr>\n",
                            "      <th>lock_hour</th>\n",
                            "      <td>00:18:37</td>\n",
                            "      <td>00:14:59</td>\n",
                            "      <td>00:09:50</td>\n",
                            "      <td>00:16:29</td>\n",
                            "      <td>00:18:01</td>\n",
                            "    </tr>\n",
                            "  </tbody>\n",
                            "</table>\n",
                            "</div>"
                        ],
                        "text/plain": [
                            "                                             1               3  \\\n",
                            "unlock_date                         2022-01-01      2022-01-01   \n",
                            "idDriver                             489978239       06023769T   \n",
                            "idBike                                    1718            7340   \n",
                            "fleet                                        1               1   \n",
                            "trip_minutes                             16.28             7.1   \n",
                            "address_unlock                             NaN             NaN   \n",
                            "unlock_hour                           00:02:20        00:07:53   \n",
                            "locktype                               STATION         STATION   \n",
                            "unlocktype                             STATION         STATION   \n",
                            "address_lock                               NaN             NaN   \n",
                            "station_unlock                             200              69   \n",
                            "dock_unlock                                  3               5   \n",
                            "unlock_station_name     Avenida de los Toreros   Antonio Maura   \n",
                            "station_lock                                64             169   \n",
                            "dock_lock                                    4              17   \n",
                            "lock_station_name    Plaza de la Independencia  Manuel Silvela   \n",
                            "latitude_unlock                     40.4318611      40.4166834   \n",
                            "longitude_unlock                    -3.6714166      -3.6894193   \n",
                            "latitude_lock                        40.419752       40.430952   \n",
                            "longitude_lock                       -3.688398       -3.699346   \n",
                            "lock_date                           2022-01-01      2022-01-01   \n",
                            "lock_hour                             00:18:37        00:14:59   \n",
                            "\n",
                            "                                          5                 7  \\\n",
                            "unlock_date                      2022-01-01        2022-01-01   \n",
                            "idDriver                          50856526F         79006741Q   \n",
                            "idBike                                 3861              7657   \n",
                            "fleet                                     1                 1   \n",
                            "trip_minutes                           0.48              6.62   \n",
                            "address_unlock                          NaN               NaN   \n",
                            "unlock_hour                        00:09:21          00:09:52   \n",
                            "locktype                            STATION           STATION   \n",
                            "unlocktype                          STATION           STATION   \n",
                            "address_lock                            NaN               NaN   \n",
                            "station_unlock                           73               192   \n",
                            "dock_unlock                              21                22   \n",
                            "unlock_station_name  Puerta del Ángel Caído  Marqués de Zafra   \n",
                            "station_lock                             73               190   \n",
                            "dock_lock                                21                17   \n",
                            "lock_station_name    Puerta del Ángel Caído       Parque Roma   \n",
                            "latitude_unlock                   40.409808            40.426   \n",
                            "longitude_unlock                  -3.688822        -3.6653055   \n",
                            "latitude_lock                     40.409808         40.418667   \n",
                            "longitude_lock                    -3.688822         -3.665778   \n",
                            "lock_date                        2022-01-01        2022-01-01   \n",
                            "lock_hour                          00:09:50          00:16:29   \n",
                            "\n",
                            "                                         9  \n",
                            "unlock_date                     2022-01-01  \n",
                            "idDriver                         76959007H  \n",
                            "idBike                                6653  \n",
                            "fleet                                    1  \n",
                            "trip_minutes                          8.07  \n",
                            "address_unlock                         NaN  \n",
                            "unlock_hour                       00:09:57  \n",
                            "locktype                           STATION  \n",
                            "unlocktype                         STATION  \n",
                            "address_lock                           NaN  \n",
                            "station_unlock                         183  \n",
                            "dock_unlock                              3  \n",
                            "unlock_station_name  Jaime el Conquistador  \n",
                            "station_lock                            47  \n",
                            "dock_lock                               24  \n",
                            "lock_station_name            Jesús y María  \n",
                            "latitude_unlock                 40.3962222  \n",
                            "longitude_unlock                -3.6983055  \n",
                            "latitude_lock                    40.410156  \n",
                            "longitude_lock                   -3.702502  \n",
                            "lock_date                       2022-01-01  \n",
                            "lock_hour                         00:18:01  "
                        ]
                    },
                    "execution_count": 134,
                    "metadata": {},
                    "output_type": "execute_result"
                }
            ],
            "source": [
                "trips_data.head().T"
            ]
        },
        {
            "cell_type": "code",
            "execution_count": 135,
            "metadata": {},
            "outputs": [],
            "source": [
                "trips_data = trips_data.reindex(columns=['idDriver', 'idBike', 'trip_minutes', 'fleet', 'unlock_date', 'unlock_hour', 'latitude_unlock', 'longitude_unlock', 'address_unlock', 'unlocktype', 'station_unlock', 'dock_unlock', 'unlock_station_name','lock_date', 'lock_hour', 'latitude_lock', 'longitude_lock', 'address_lock', 'locktype', 'station_lock', 'dock_lock', 'lock_station_name'])"
            ]
        },
        {
            "cell_type": "code",
            "execution_count": 136,
            "metadata": {},
            "outputs": [
                {
                    "name": "stdout",
                    "output_type": "stream",
                    "text": [
                        "<class 'pandas.core.frame.DataFrame'>\n",
                        "Index: 4144134 entries, 1 to 8288267\n",
                        "Data columns (total 22 columns):\n",
                        " #   Column               Dtype  \n",
                        "---  ------               -----  \n",
                        " 0   idDriver             object \n",
                        " 1   idBike               int32  \n",
                        " 2   trip_minutes         float64\n",
                        " 3   fleet                int32  \n",
                        " 4   unlock_date          object \n",
                        " 5   unlock_hour          object \n",
                        " 6   latitude_unlock      object \n",
                        " 7   longitude_unlock     object \n",
                        " 8   address_unlock       object \n",
                        " 9   unlocktype           object \n",
                        " 10  station_unlock       int32  \n",
                        " 11  dock_unlock          int32  \n",
                        " 12  unlock_station_name  object \n",
                        " 13  lock_date            object \n",
                        " 14  lock_hour            object \n",
                        " 15  latitude_lock        object \n",
                        " 16  longitude_lock       object \n",
                        " 17  address_lock         object \n",
                        " 18  locktype             object \n",
                        " 19  station_lock         int32  \n",
                        " 20  dock_lock            int32  \n",
                        " 21  lock_station_name    object \n",
                        "dtypes: float64(1), int32(6), object(15)\n",
                        "memory usage: 632.3+ MB\n"
                    ]
                }
            ],
            "source": [
                "trips_data.info()"
            ]
        },
        {
            "cell_type": "markdown",
            "metadata": {},
            "source": [
                "***Save the clean file***"
            ]
        },
        {
            "cell_type": "code",
            "execution_count": 137,
            "metadata": {},
            "outputs": [],
            "source": [
                "trips_data.to_csv('../data/processed/clean_data_trips.csv', index=False)"
            ]
        },
        {
            "cell_type": "markdown",
            "metadata": {},
            "source": [
                "### JSON FILE ###"
            ]
        },
        {
            "cell_type": "markdown",
            "metadata": {},
            "source": [
                "***Read data file***"
            ]
        },
        {
            "cell_type": "code",
            "execution_count": 138,
            "metadata": {},
            "outputs": [],
            "source": [
                "data_stations = pd.read_json('../data/raw/json/combined_json.json', lines=True)"
            ]
        },
        {
            "cell_type": "markdown",
            "metadata": {},
            "source": [
                "***Concat the columns***"
            ]
        },
        {
            "cell_type": "code",
            "execution_count": 139,
            "metadata": {},
            "outputs": [],
            "source": [
                "stations_df = pd.json_normalize(data_stations['stations'].explode())"
            ]
        },
        {
            "cell_type": "code",
            "execution_count": 140,
            "metadata": {},
            "outputs": [],
            "source": [
                "replicas = 264\n",
                "data_stations_rep = pd.concat([data_stations]*replicas)"
            ]
        },
        {
            "cell_type": "code",
            "execution_count": 141,
            "metadata": {},
            "outputs": [],
            "source": [
                "data_stations_rep = data_stations_rep.reset_index(drop=True)"
            ]
        },
        {
            "cell_type": "code",
            "execution_count": 142,
            "metadata": {},
            "outputs": [],
            "source": [
                "data_stations_final = pd.concat([data_stations_rep, stations_df], axis=1, join='outer')"
            ]
        },
        {
            "cell_type": "markdown",
            "metadata": {},
            "source": [
                "***Modify the columns**"
            ]
        },
        {
            "cell_type": "markdown",
            "metadata": {},
            "source": [
                "* _id"
            ]
        },
        {
            "cell_type": "code",
            "execution_count": 143,
            "metadata": {},
            "outputs": [],
            "source": [
                "data_stations_final['_id'] = pd.to_datetime(data_stations_final['_id'])\n",
                "data_stations_final['date_station'] = data_stations_final['_id'].dt.date\n",
                "data_stations_final['hour_station'] = data_stations_final['_id'].dt.time"
            ]
        },
        {
            "cell_type": "code",
            "execution_count": 144,
            "metadata": {},
            "outputs": [],
            "source": [
                "data_stations_final['_id'] = data_stations_final['_id'].astype(str)\n",
                "data_stations_final['_id'] = data_stations_final['_id'].str.slice(-6)"
            ]
        },
        {
            "cell_type": "markdown",
            "metadata": {},
            "source": [
                "* hour_station"
            ]
        },
        {
            "cell_type": "code",
            "execution_count": 145,
            "metadata": {},
            "outputs": [],
            "source": [
                "data_stations_final['hour_station'] = data_stations_final['hour_station'].astype(str)\n",
                "data_stations_final['hour_station'] = data_stations_final['hour_station'].str.slice(stop=8)"
            ]
        },
        {
            "cell_type": "markdown",
            "metadata": {},
            "source": [
                "* longitude & latitude"
            ]
        },
        {
            "cell_type": "code",
            "execution_count": 148,
            "metadata": {},
            "outputs": [],
            "source": [
                "data_stations_final['longitude'] = data_stations_final['longitude'].str.slice(stop=9)\n",
                "data_stations_final['latitude'] = data_stations_final['latitude'].str.slice(stop=9)"
            ]
        },
        {
            "cell_type": "markdown",
            "metadata": {},
            "source": [
                "***Select the neccessary columns for lock and unlock stations***"
            ]
        },
        {
            "cell_type": "code",
            "execution_count": 149,
            "metadata": {},
            "outputs": [],
            "source": [
                "data_stations_final_unlock = data_stations_final[['date_station', 'hour_station', 'longitude', 'latitude', 'light', 'total_bases', 'free_bases', 'no_available', 'dock_bikes']]\n",
                "data_stations_final_unlock.rename(columns={'date_station': 'unlock_date', 'hour_station': 'unlock_hour', 'longitude': 'longitude_unlock', 'latitude': 'latitude_unlock', 'light' : 'light_unlock', 'total_bases' : 'total_bases_unlock', 'free_bases' : 'free_bases_unlock', 'no_available' : 'no_available_unlock', 'dock_bikes' : 'dock_bikes_unlock'}, inplace=True)"
            ]
        },
        {
            "cell_type": "code",
            "execution_count": 150,
            "metadata": {},
            "outputs": [],
            "source": [
                "data_stations_final_lock = data_stations_final[['date_station', 'hour_station', 'longitude', 'latitude', 'light', 'total_bases', 'free_bases', 'no_available', 'dock_bikes']]\n",
                "data_stations_final_lock.rename(columns={'date_station': 'lock_date', 'hour_station': 'lock_hour', 'longitude': 'longitude_lock', 'latitude': 'latitude_lock', 'light' : 'light_lock', 'total_bases' : 'total_bases_lock', 'free_bases' : 'free_bases_lock', 'no_available' : 'no_available_lock', 'dock_bikes' : 'dock_bikes_lock'}, inplace=True)"
            ]
        },
        {
            "cell_type": "markdown",
            "metadata": {},
            "source": [
                "### MERGE DATA"
            ]
        },
        {
            "cell_type": "code",
            "execution_count": 151,
            "metadata": {},
            "outputs": [],
            "source": [
                "# trips_data = pd.merge(trips_data, data_stations_final_unlock, how='right', on=['unlock_date', 'unlock_hour', 'longitude_unlock', 'latitude_unlock'])"
            ]
        },
        {
            "cell_type": "code",
            "execution_count": 152,
            "metadata": {},
            "outputs": [],
            "source": [
                "# trips_data = pd.merge(trips_data, data_stations_final_lock, how='right', on=['lock_date', 'lock_hour', 'longitude_lock', 'latitude_lock'])"
            ]
        },
        {
            "cell_type": "markdown",
            "metadata": {},
            "source": [
                "***Save the clean data***"
            ]
        },
        {
            "cell_type": "code",
            "execution_count": 153,
            "metadata": {},
            "outputs": [],
            "source": [
                "# trips_data.to_csv('../data/processed/clean_data_trips_stations.csv', index=False)"
            ]
        }
    ],
    "metadata": {
        "kernelspec": {
            "display_name": "Python 3.8.13 64-bit ('3.8.13')",
            "language": "python",
            "name": "python3"
        },
        "language_info": {
            "codemirror_mode": {
                "name": "ipython",
                "version": 3
            },
            "file_extension": ".py",
            "mimetype": "text/x-python",
            "name": "python",
            "nbconvert_exporter": "python",
            "pygments_lexer": "ipython3",
            "version": "3.12.0"
        },
        "orig_nbformat": 4,
        "vscode": {
            "interpreter": {
                "hash": "110cc1dee26208153f2972f08a2ad52b6a56238dc66d48e87fb757ef2996db56"
            }
        }
    },
    "nbformat": 4,
    "nbformat_minor": 2
}
